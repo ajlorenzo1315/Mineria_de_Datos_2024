{
 "cells": [
  {
   "cell_type": "markdown",
   "metadata": {},
   "source": [
    "## Comparación de modelos\n",
    "\n",
    "En esta sesión de prácticas vamos a realizar comparaciones entre predictores en diferentes situaciones. \n",
    "\n",
    "### 1. Dos clasificadores en un dominio\n",
    "\n",
    "#### 1.1. Caso paramétrico\n",
    "Para un determinado conjunto de datos se han probado dos clasificadores: árbol C50 y redes neuronales. Cada clasificares se han evaluado utilizando una validación cruzada con 10 pliegues. En el fichero ejemplo1.dat puedes encontrar el índice Kappa para cada uno de los 10 pliegues. Con estos datos ¿qué podemos decir sobre la eficacia de dichos clasificadores?"
   ]
  },
  {
   "cell_type": "code",
   "execution_count": 1,
   "metadata": {},
   "outputs": [],
   "source": [
    "import pandas as pd\n",
    "import numpy as np\n"
   ]
  },
  {
   "cell_type": "code",
   "execution_count": 2,
   "metadata": {},
   "outputs": [
    {
     "data": {
      "text/html": [
       "<div>\n",
       "<style scoped>\n",
       "    .dataframe tbody tr th:only-of-type {\n",
       "        vertical-align: middle;\n",
       "    }\n",
       "\n",
       "    .dataframe tbody tr th {\n",
       "        vertical-align: top;\n",
       "    }\n",
       "\n",
       "    .dataframe thead th {\n",
       "        text-align: right;\n",
       "    }\n",
       "</style>\n",
       "<table border=\"1\" class=\"dataframe\">\n",
       "  <thead>\n",
       "    <tr style=\"text-align: right;\">\n",
       "      <th></th>\n",
       "      <th>nnet</th>\n",
       "      <th>C50</th>\n",
       "    </tr>\n",
       "  </thead>\n",
       "  <tbody>\n",
       "    <tr>\n",
       "      <th>0</th>\n",
       "      <td>0.814815</td>\n",
       "      <td>0.666667</td>\n",
       "    </tr>\n",
       "    <tr>\n",
       "      <th>1</th>\n",
       "      <td>0.589744</td>\n",
       "      <td>0.764706</td>\n",
       "    </tr>\n",
       "    <tr>\n",
       "      <th>2</th>\n",
       "      <td>0.600000</td>\n",
       "      <td>0.818182</td>\n",
       "    </tr>\n",
       "    <tr>\n",
       "      <th>3</th>\n",
       "      <td>0.179487</td>\n",
       "      <td>0.294118</td>\n",
       "    </tr>\n",
       "    <tr>\n",
       "      <th>4</th>\n",
       "      <td>0.814815</td>\n",
       "      <td>1.000000</td>\n",
       "    </tr>\n",
       "    <tr>\n",
       "      <th>5</th>\n",
       "      <td>0.000000</td>\n",
       "      <td>-0.111111</td>\n",
       "    </tr>\n",
       "    <tr>\n",
       "      <th>6</th>\n",
       "      <td>0.000000</td>\n",
       "      <td>0.333333</td>\n",
       "    </tr>\n",
       "    <tr>\n",
       "      <th>7</th>\n",
       "      <td>0.764706</td>\n",
       "      <td>0.764706</td>\n",
       "    </tr>\n",
       "    <tr>\n",
       "      <th>8</th>\n",
       "      <td>0.818182</td>\n",
       "      <td>0.818182</td>\n",
       "    </tr>\n",
       "    <tr>\n",
       "      <th>9</th>\n",
       "      <td>0.000000</td>\n",
       "      <td>-0.111111</td>\n",
       "    </tr>\n",
       "  </tbody>\n",
       "</table>\n",
       "</div>"
      ],
      "text/plain": [
       "       nnet       C50\n",
       "0  0.814815  0.666667\n",
       "1  0.589744  0.764706\n",
       "2  0.600000  0.818182\n",
       "3  0.179487  0.294118\n",
       "4  0.814815  1.000000\n",
       "5  0.000000 -0.111111\n",
       "6  0.000000  0.333333\n",
       "7  0.764706  0.764706\n",
       "8  0.818182  0.818182\n",
       "9  0.000000 -0.111111"
      ]
     },
     "metadata": {},
     "output_type": "display_data"
    }
   ],
   "source": [
    "ej1 = pd.read_csv('./data/ejemplo1.dat')\n",
    "display(ej1)"
   ]
  },
  {
   "cell_type": "code",
   "execution_count": 3,
   "metadata": {},
   "outputs": [
    {
     "name": "stdout",
     "output_type": "stream",
     "text": [
      "<class 'pandas.core.frame.DataFrame'>\n",
      "RangeIndex: 10 entries, 0 to 9\n",
      "Data columns (total 2 columns):\n",
      " #   Column  Non-Null Count  Dtype  \n",
      "---  ------  --------------  -----  \n",
      " 0   nnet    10 non-null     float64\n",
      " 1   C50     10 non-null     float64\n",
      "dtypes: float64(2)\n",
      "memory usage: 292.0 bytes\n"
     ]
    }
   ],
   "source": [
    "ej1.info()"
   ]
  },
  {
   "cell_type": "markdown",
   "metadata": {},
   "source": [
    "Como podemos observar estamos comparando dos clasificadores en un dominio, por lo tanto, primero deberíamos comprobar si se cumplen las condiciones para realizar un test T de Student con medidas pareadas: normalidad y homogeneidad de las varianzas (homocedasticidad). \n",
    "\n",
    "Para comprobar la normalidad podemos utilizar dos test: el test de Shapiro-Wilk y el test de Kolmogorov-Smirnov con la corrección Lilliefors. El test de Shapiro-Wilk se recomienda cuando el número de muestras es menor a 50, mientras que el test de Kolmogorov-Smirnov con la corrección Lilliefors se recomienda cuando las muestras son mayores a 50. \n",
    "\n",
    "\n",
    "Test de Shapiro-Wilk\n",
    "\n",
    "- Qué hace: Este test evalúa la hipótesis de que una muestra proviene de una población normalmente distribuida. Calcula un estadístico WW basado en la correlación entre los datos observados y los valores esperados bajo una distribución normal. Un valor de WW cercano a 1 indica que la muestra podría provenir de una distribución normal.\n",
    "\n",
    "- Por qué se usa: El test de Shapiro-Wilk es particularmente eficaz para muestras pequeñas, generalmente recomendado para muestras con menos de 50 observaciones. Esto se debe a su alta potencia para detectar desviaciones de la normalidad en muestras pequeñas, lo que lo hace más confiable que otros test en estos contextos.\n",
    "\n",
    "Test de Kolmogorov-Smirnov con la corrección de Lilliefors\n",
    "\n",
    "- Qué hace: El test de Kolmogorov-Smirnov es un test no paramétrico que compara la distribución acumulada de una muestra con una distribución teórica esperada, en este caso, la normal. La corrección de Lilliefors modifica el test de Kolmogorov-Smirnov para mejorar su capacidad de evaluar la normalidad cuando los parámetros de la distribución normal (media y desviación estándar) se estiman a partir de los datos, en lugar de ser conocidos a priori.\n",
    "\n",
    "- Por qué se usa: Este test, con la corrección de Lilliefors, se recomienda para muestras más grandes, típicamente mayores a 50 observaciones. En muestras grandes, el impacto de estimar los parámetros de la distribución disminuye, y este test proporciona una buena mezcla de sensibilidad y especificidad para detectar desviaciones de la normalidad. Además, para muestras grandes, el test de Shapiro-Wilk puede perder potencia y ser menos efectivo para identificar no normalidad.\n",
    "    \n",
    "\n",
    "En este caso, aunque sólo tenemos 10 muestras vamos a realizar ambos test para aclarar cómo se aplican. Recordad que la normalidad hay que comprobarla sobre las diferencias entre las medidas obtenidas en cada pliegue, ya que lo que queremos comprobar es si existen diferencias significativas entre las medias del rendimiento entre las dos clasificadores. En nuestro caso el test intenta comprobar estas hipótesis:\n",
    "\n",
    "$$ H_0: X \\sim N(\\mu, \\sigma^2) $$\n",
    "$$ H_1: X \\nsim N(\\mu, \\sigma^2) $$"
   ]
  },
  {
   "cell_type": "code",
   "execution_count": 4,
   "metadata": {},
   "outputs": [
    {
     "name": "stdout",
     "output_type": "stream",
     "text": [
      "### Shapiro-Wilk normality test\n",
      "### statistic = 0.9353, p-value = 0.5018\n"
     ]
    }
   ],
   "source": [
    "from scipy.stats import shapiro\n",
    "s, p = shapiro(ej1['nnet'] - ej1['C50'])\n",
    "print('### Shapiro-Wilk normality test')\n",
    "print('### statistic = {:.4f}, p-value = {:.4f}'.format(s, p))"
   ]
  },
  {
   "cell_type": "code",
   "execution_count": 5,
   "metadata": {},
   "outputs": [
    {
     "name": "stdout",
     "output_type": "stream",
     "text": [
      "### Lilliefors (Kolmogorov-Smirnov) normality test\n",
      "### statistic = 0.1602, p-value = 0.6573\n"
     ]
    }
   ],
   "source": [
    "from statsmodels.stats.diagnostic import lilliefors\n",
    "s, p = lilliefors(ej1['nnet'] - ej1['C50'], dist='norm', pvalmethod='table')\n",
    "print('### Lilliefors (Kolmogorov-Smirnov) normality test')\n",
    "print('### statistic = {:.4f}, p-value = {:.4f}'.format(s, p))\n"
   ]
  },
  {
   "cell_type": "markdown",
   "metadata": {},
   "source": [
    "Como podemos ver, no podemos rechazar la hipótesis nula de que la muestra procede de una distribución normal, con un 95% de confianza (W=0.935, p-value=0.502 y D=0.16, p-value=0.661). En este caso sólo nos habría hecho falta aplicar el test de Shapiro-Wilk al ser la muestra menor que 50.\n",
    "\n",
    "Una vez comprobada la normalidad, hay que proceder con la comprobación de la homocedasticidad (homogeneidad de las varianzas). Para ello tenemos dos test: el test de Levene y el test de Bartlett. Este último es más potente en el caso de que se pueda asumir la normalidad, como es nuestro caso.\n",
    "\n",
    "**Distribución Normal**\n",
    "\n",
    "Se refiere a la suposición de que los datos, o los residuos en el contexto de la regresión, siguen una distribución normal. Es decir, la mayoría de los datos se concentra alrededor de la media, y hay una simetría en la distribución de los datos hacia los extremos (las colas). Esta característica es importante porque muchos tests estadísticos asumen que los datos siguen esta distribución para calcular la significancia de los resultados.\n",
    "\n",
    "**Homocedasticidad (Homogeneidad de las Varianzas)**\n",
    "\n",
    "La homocedasticidad, por otro lado, se refiere a la suposición de que las varianzas a lo largo de las diferentes muestras o grupos son iguales. Esto es crucial en análisis donde se comparan grupos, como el ANOVA, ya que una varianza desigual (heterocedasticidad) puede sesgar los resultados y llevar a conclusiones erróneas.\n",
    "Evaluación de la Homocedasticidad\n",
    "\n",
    "Una vez establecido que una muestra sigue una distribución normal, el siguiente paso es evaluar la homocedasticidad antes de proceder con análisis que asumen tanto la normalidad como la igualdad de varianzas. Los tests más comunes para evaluar la homocedasticidad son:\n",
    "\n",
    "- Test de Levene\n",
    "\n",
    "    - Qué hace: Evalúa si las varianzas de dos o más grupos son iguales. No asume que los datos siguen una distribución normal, lo que lo hace más robusto frente a desviaciones de la normalidad.\n",
    "\n",
    "    - Cuándo usarlo: Es preferible cuando no estás completamente seguro de la normalidad de los datos o cuando hay evidencia de que los datos podrían no seguir una distribución normal.\n",
    "\n",
    "- Test de Bartlett\n",
    "\n",
    "    - Qué hace: Similar al test de Levene, el test de Bartlett evalúa la igualdad de varianzas entre grupos. Sin embargo, asume que los datos siguen una distribución normal, lo que puede hacerlo más sensible en esos contextos.\n",
    "\n",
    "    - Cuándo usarlo: Es más potente que el test de Levene cuando los datos siguen una distribución normal, como indicas en tu situación. Por lo tanto, es la opción preferida en casos donde la normalidad está asegurada."
   ]
  },
  {
   "cell_type": "code",
   "execution_count": 6,
   "metadata": {},
   "outputs": [
    {
     "name": "stdout",
     "output_type": "stream",
     "text": [
      "### Levene's Test for Homogeneity of Variance (center = median)\n",
      "### statistic = 0.0017, p-value = 0.9672\n"
     ]
    }
   ],
   "source": [
    "from scipy.stats import levene\n",
    "s, p = levene(ej1['nnet'], ej1['C50'], center='median')\n",
    "print('### Levene\\'s Test for Homogeneity of Variance (center = median)')\n",
    "print('### statistic = {:.4f}, p-value = {:.4f}'.format(s, p))"
   ]
  },
  {
   "cell_type": "code",
   "execution_count": 7,
   "metadata": {},
   "outputs": [
    {
     "name": "stdout",
     "output_type": "stream",
     "text": [
      "### Bartlett test of homogeneity of variances\n",
      "### statistic = 0.0530, p-value = 0.8179\n"
     ]
    }
   ],
   "source": [
    "from scipy.stats import bartlett\n",
    "s, p = bartlett(ej1['nnet'], ej1['C50'])\n",
    "print('### Bartlett test of homogeneity of variances')\n",
    "print('### statistic = {:.4f}, p-value = {:.4f}'.format(s, p))"
   ]
  },
  {
   "cell_type": "markdown",
   "metadata": {},
   "source": [
    "Como podemos ver, los dos test confirman al 95% que no podemos rechazar la hipótesis de que las varianzas en las medidas obtenidas en cada clasificador son homogéneas (L=0.002, p-value=0.967 > 0.05 y B=0.053, p-value=0.818 > 0.05).\n",
    "\n",
    "Al cumplirse las condiciones de aplicabilidad del test T de Student con medidas pareadas, podemos comprobar si las diferencias detectadas en los clasificadores es significativa o no. Es decir, las hipótesis que intenta comprobar el test se pueden expresar de la siguiente manera:\n",
    "\n",
    "$$ H_0: \\mu_{C50} − \\mu_{nnet} = 0 $$\n",
    "$$ H_q: \\mu_{C50} − \\mu_{nnet} \\neq 0 $$"
   ]
  },
  {
   "cell_type": "code",
   "execution_count": 8,
   "metadata": {},
   "outputs": [
    {
     "name": "stdout",
     "output_type": "stream",
     "text": [
      "### Paired t-test\n",
      "### statistic = -1.2692, p-value = 0.2362\n",
      "### t-9-0.975 = 2.2622\n"
     ]
    }
   ],
   "source": [
    "from scipy.stats import ttest_rel\n",
    "s, p = ttest_rel(ej1['nnet'], ej1['C50'])\n",
    "print('### Paired t-test')\n",
    "print('### statistic = {:.4f}, p-value = {:.4f}'.format(s, p))\n",
    "\n",
    "from scipy.stats import t\n",
    "alpha = 0.05  # nivel de significancia\n",
    "df = 9  # grados de libertad\n",
    "v = t.ppf(1 - alpha/2, df)\n",
    "print('### t-{}-{:.3f} = {:.4f}'.format(df, 1-alpha/2, v))"
   ]
  },
  {
   "cell_type": "markdown",
   "metadata": {},
   "source": [
    "Atendiendo a los resultados del test, podemos concluir que con el 95% de confianza las diferencias entre las medias obtenidas por cada clasificador no son significativas (no podemos rechazar la hipótesis de que la diferencias entre las medias sea 0). Es decir, no existen diferencias significativas entre los dos clasificadores con el conjunto de datos utilizado ($|T|$= 1.269 < $T_{9,0.975}$, p-value = 0.236). \n",
    "\n",
    "En este caso, se podría haber aplicado un test t de Student para una muestra, con la diferencia de medias obtenida en cada pliegue:"
   ]
  },
  {
   "cell_type": "code",
   "execution_count": 9,
   "metadata": {},
   "outputs": [
    {
     "name": "stdout",
     "output_type": "stream",
     "text": [
      "### One Sample t-test\n",
      "### statistic = -1.2692, p-value = 0.2362\n"
     ]
    }
   ],
   "source": [
    "from scipy.stats import ttest_1samp\n",
    "s, p = ttest_1samp(ej1['nnet'] - ej1['C50'], popmean=0)\n",
    "print('### One Sample t-test')\n",
    "print('### statistic = {:.4f}, p-value = {:.4f}'.format(s, p))"
   ]
  },
  {
   "cell_type": "markdown",
   "metadata": {},
   "source": [
    "#### 1.2. Caso no paramétrico\n",
    "\n",
    "Un caso no paramétrico se refiere a métodos estadísticos que no asumen una forma específica (paramétrica) para la distribución de los datos. A diferencia de los métodos paramétricos, que se basan en suposiciones sobre la distribución subyacente de los datos (como asumir una distribución normal), los métodos no paramétricos son más flexibles ya que no requieren tales suposiciones. Esto los hace particularmente útiles para analizar datos que no cumplen con los supuestos de los métodos paramétricos, como la normalidad o la homogeneidad de varianzas.\n",
    "\n",
    "**Características de los Métodos No Paramétricos**\n",
    "\n",
    "- Flexibilidad: Pueden ser aplicados a datos que no siguen una distribución conocida o específica, lo que los hace útiles en una amplia gama de situaciones.\n",
    "\n",
    "- Robustez: Son menos sensibles a outliers o a desviaciones de las suposiciones de distribución, lo que puede proporcionar resultados más fiables en presencia de datos anómalos.\n",
    "\n",
    "- Aplicabilidad: Pueden ser usados con datos ordinales (donde las observaciones pueden ser ordenadas pero no necesariamente cuantificadas exactamente) y datos nominales, además de datos numéricos.\n",
    "\n",
    "**Ejemplos de Métodos No Paramétricos**\n",
    "\n",
    "- Test de Mann-Whitney U: Usado para comparar las diferencias entre dos grupos independientes cuando no se puede asumir la normalidad de las distribuciones.\n",
    "    \n",
    "- Test de Wilcoxon de rangos con signo: Utilizado para comparar dos muestras relacionadas, pareadas o medidas repetidas en una misma muestra para evaluar si sus poblaciones medias difieren.\n",
    "    \n",
    "- Test de Kruskal-Wallis: Una extensión del test de Mann-Whitney para comparar más de dos grupos independientes.\n",
    "    \n",
    "- Test de Friedman: Usado para comparar más de dos grupos relacionados o medidas repetidas, similar a la ANOVA pero para datos que no cumplen los supuestos paramétricos.\n",
    "\n",
    "- Test de Chi-cuadrado: Utilizado para comparar proporciones o frecuencias observadas con las esperadas en categorías nominales.\n",
    "\n",
    "Cuándo Usar Métodos No Paramétricos\n",
    "\n",
    "Se prefieren los métodos no paramétricos cuando:\n",
    "\n",
    "   - Los datos no se distribuyen normalmente.\n",
    "   - Los datos son ordinales o nominales.\n",
    "   - Las muestras son pequeñas.\n",
    "   - Hay presencia significativa de outliers.\n",
    "    \n",
    "\n",
    "Supongamos ahora que queremos comprobar como se comportan un clasificador de máquina de soporte de vectores (SMV) y un análisis lineal discriminante (LDA) sobre un determinado conjunto de datos. Una vez entrenados, los clasificadores se han evaluado mediante una validación cruzada con 10 pliegues. En el fichero ejemplo2.dat se pueden encontrar los valores para la precisión para cada uno de los pliegues:"
   ]
  },
  {
   "cell_type": "code",
   "execution_count": 10,
   "metadata": {},
   "outputs": [
    {
     "data": {
      "text/html": [
       "<div>\n",
       "<style scoped>\n",
       "    .dataframe tbody tr th:only-of-type {\n",
       "        vertical-align: middle;\n",
       "    }\n",
       "\n",
       "    .dataframe tbody tr th {\n",
       "        vertical-align: top;\n",
       "    }\n",
       "\n",
       "    .dataframe thead th {\n",
       "        text-align: right;\n",
       "    }\n",
       "</style>\n",
       "<table border=\"1\" class=\"dataframe\">\n",
       "  <thead>\n",
       "    <tr style=\"text-align: right;\">\n",
       "      <th></th>\n",
       "      <th>SVM</th>\n",
       "      <th>LDA</th>\n",
       "    </tr>\n",
       "  </thead>\n",
       "  <tbody>\n",
       "    <tr>\n",
       "      <th>0</th>\n",
       "      <td>0.933333</td>\n",
       "      <td>0.933333</td>\n",
       "    </tr>\n",
       "    <tr>\n",
       "      <th>1</th>\n",
       "      <td>0.875000</td>\n",
       "      <td>0.875000</td>\n",
       "    </tr>\n",
       "    <tr>\n",
       "      <th>2</th>\n",
       "      <td>0.812500</td>\n",
       "      <td>0.875000</td>\n",
       "    </tr>\n",
       "    <tr>\n",
       "      <th>3</th>\n",
       "      <td>0.812500</td>\n",
       "      <td>0.875000</td>\n",
       "    </tr>\n",
       "    <tr>\n",
       "      <th>4</th>\n",
       "      <td>0.933333</td>\n",
       "      <td>0.933333</td>\n",
       "    </tr>\n",
       "    <tr>\n",
       "      <th>5</th>\n",
       "      <td>0.800000</td>\n",
       "      <td>0.800000</td>\n",
       "    </tr>\n",
       "    <tr>\n",
       "      <th>6</th>\n",
       "      <td>0.600000</td>\n",
       "      <td>0.533333</td>\n",
       "    </tr>\n",
       "    <tr>\n",
       "      <th>7</th>\n",
       "      <td>0.937500</td>\n",
       "      <td>0.937500</td>\n",
       "    </tr>\n",
       "    <tr>\n",
       "      <th>8</th>\n",
       "      <td>0.750000</td>\n",
       "      <td>0.937500</td>\n",
       "    </tr>\n",
       "    <tr>\n",
       "      <th>9</th>\n",
       "      <td>0.800000</td>\n",
       "      <td>0.733333</td>\n",
       "    </tr>\n",
       "  </tbody>\n",
       "</table>\n",
       "</div>"
      ],
      "text/plain": [
       "        SVM       LDA\n",
       "0  0.933333  0.933333\n",
       "1  0.875000  0.875000\n",
       "2  0.812500  0.875000\n",
       "3  0.812500  0.875000\n",
       "4  0.933333  0.933333\n",
       "5  0.800000  0.800000\n",
       "6  0.600000  0.533333\n",
       "7  0.937500  0.937500\n",
       "8  0.750000  0.937500\n",
       "9  0.800000  0.733333"
      ]
     },
     "execution_count": 10,
     "metadata": {},
     "output_type": "execute_result"
    }
   ],
   "source": [
    "ej2 = pd.read_csv('data/ejemplo2.dat')\n",
    "ej2.head(10)"
   ]
  },
  {
   "cell_type": "code",
   "execution_count": 11,
   "metadata": {},
   "outputs": [
    {
     "name": "stdout",
     "output_type": "stream",
     "text": [
      "<class 'pandas.core.frame.DataFrame'>\n",
      "RangeIndex: 10 entries, 0 to 9\n",
      "Data columns (total 2 columns):\n",
      " #   Column  Non-Null Count  Dtype  \n",
      "---  ------  --------------  -----  \n",
      " 0   SVM     10 non-null     float64\n",
      " 1   LDA     10 non-null     float64\n",
      "dtypes: float64(2)\n",
      "memory usage: 292.0 bytes\n"
     ]
    }
   ],
   "source": [
    "ej2.info()"
   ]
  },
  {
   "cell_type": "markdown",
   "metadata": {},
   "source": [
    "Ahora volvemos a comprobar las condiciones de aplicabilidad del test t de Student con medidas pareadas. Primero comprobamos la normalidad de la muestra:"
   ]
  },
  {
   "cell_type": "code",
   "execution_count": 12,
   "metadata": {},
   "outputs": [
    {
     "name": "stdout",
     "output_type": "stream",
     "text": [
      "### Shapiro-Wilk normality test\n",
      "### statistic = 0.8363, p-value = 0.0399\n"
     ]
    }
   ],
   "source": [
    "s, p = shapiro(ej2['SVM'] - ej2['LDA'])\n",
    "print('### Shapiro-Wilk normality test')\n",
    "print('### statistic = {:.4f}, p-value = {:.4f}'.format(s, p))"
   ]
  },
  {
   "cell_type": "markdown",
   "metadata": {},
   "source": [
    "Como podemos afirmar que las muestras no proceden de una distribución normal con el 95% de confianza (W= 0.836, p-value= 0.04). Mas formalmente, podemos rechazar la hipótesis nula de que la muestra no proviene de una distribución normal. Por lo tanto, no podemos aplicar el test t de Student para muestras pareadas (o su versión para una muestra). En este caso tenemos que aplicar los test no paramétricos como el test de McNemar o el test de la suma de rangos de Wilcoxon para muestras pareadas.\n",
    "\n",
    "Empecemos por el test de McNemar, que necesita como datos la matriz de confusión para los dos métodos considerados. Esta matriz se encuentra en el siguiente fichero:"
   ]
  },
  {
   "cell_type": "code",
   "execution_count": 13,
   "metadata": {},
   "outputs": [
    {
     "name": "stdout",
     "output_type": "stream",
     "text": [
      "  Unnamed: 0  FALLECE  VIVE\n",
      "0    FALLECE       31    11\n",
      "1       VIVE       17   136\n"
     ]
    }
   ],
   "source": [
    "matriz = pd.read_csv('data/matrizConfEjemplo2.dat')\n",
    "print(matriz)"
   ]
  },
  {
   "cell_type": "markdown",
   "metadata": {},
   "source": [
    "Recordemos que el test de McNemar comprueba si las proporciones de error son iguales, es decir:\n",
    "$$ H_0: p_{FP}=p_{FN} $$\n",
    "$$ H_1: p_{FP} \\neq p_{FN} $$"
   ]
  },
  {
   "cell_type": "code",
   "execution_count": 14,
   "metadata": {},
   "outputs": [
    {
     "name": "stdout",
     "output_type": "stream",
     "text": [
      "### McNemar's Chi-squared test with continuity correction\n",
      "### statistic = 0.8929, p-value = 0.3447\n"
     ]
    }
   ],
   "source": [
    "from statsmodels.stats.contingency_tables import mcnemar\n",
    "r = mcnemar(matriz.to_numpy()[:, 1:3], exact=False, correction=True)  # exact a falso para usar Chi-cuadrado, sino dist. binomial\n",
    "print('### McNemar\\'s Chi-squared test with continuity correction')\n",
    "print('### statistic = {:.4f}, p-value = {:.4f}'.format(r.statistic, r.pvalue))"
   ]
  },
  {
   "cell_type": "markdown",
   "metadata": {},
   "source": [
    "En este caso podemos afirmar con el 95% de confianza que las proporciones de error no muestran diferencias significativas ($χ^2$=0.893, p-value= 0.345). Es decir, no se aprecian diferencias significativas entre los modelos.\n",
    "\n",
    "El test de Wilcoxon comparará las medianes de las dos muestras en vez de las medias. Es decir, las hipótesis que se quieren comprobar se pueden expresar de la siguiente manera:\n",
    "\n",
    "$$ H0: \\eta_{SVM} = \\eta_{LDA} $$\n",
    "$$ H1: \\eta_{SVM} \\neq \\eta_{LDA} $$"
   ]
  },
  {
   "cell_type": "code",
   "execution_count": 15,
   "metadata": {},
   "outputs": [
    {
     "name": "stdout",
     "output_type": "stream",
     "text": [
      "### Wilcoxon signed rank test with continuity correction\n",
      "### statistic = 7.0000, p-value = 0.8923\n"
     ]
    },
    {
     "name": "stderr",
     "output_type": "stream",
     "text": [
      "/home/alourido/anaconda3/lib/python3.11/site-packages/scipy/stats/_morestats.py:4088: UserWarning: Exact p-value calculation does not work if there are zeros. Switching to normal approximation.\n",
      "  warnings.warn(\"Exact p-value calculation does not work if there are \"\n",
      "/home/alourido/anaconda3/lib/python3.11/site-packages/scipy/stats/_morestats.py:4102: UserWarning: Sample size too small for normal approximation.\n",
      "  warnings.warn(\"Sample size too small for normal approximation.\")\n"
     ]
    }
   ],
   "source": [
    "from scipy.stats import wilcoxon\n",
    "s, p = wilcoxon(ej2['SVM'], ej2['LDA'])\n",
    "print('### Wilcoxon signed rank test with continuity correction')\n",
    "print('### statistic = {:.4f}, p-value = {:.4f}'.format(s, p))"
   ]
  },
  {
   "cell_type": "markdown",
   "metadata": {},
   "source": [
    "En este caso, como podemos apreciar, las advertencias nos están indicado que no se pueden calcular el p-value exacto debido a que se producen empates entre las dos muestras. En esta situación deberíamos utilizar la función wilcox_test() del paquete coin que corrige este efecto."
   ]
  },
  {
   "cell_type": "code",
   "execution_count": 16,
   "metadata": {},
   "outputs": [
    {
     "name": "stdout",
     "output_type": "stream",
     "text": [
      "### Asymptotic Wilcoxon-Mann-Whitney Test\n",
      "### statistic = 41.5000, p-value = 0.5409\n"
     ]
    }
   ],
   "source": [
    "from scipy.stats import mannwhitneyu\n",
    "s, p = mannwhitneyu(ej2['SVM'], ej2['LDA'])\n",
    "print('### Asymptotic Wilcoxon-Mann-Whitney Test')\n",
    "print('### statistic = {:.4f}, p-value = {:.4f}'.format(s, p))"
   ]
  },
  {
   "cell_type": "markdown",
   "metadata": {},
   "source": [
    "Analizando los resultados, podemos afirmar que no podemos rechazar la hipótesis nula de que las medianas de las muestras sean iguales con un 95% de confianza (Z= 41.5, p-vaue= 0.516). Es decir, la diferencia entre los dos modelos no son estadísticamente significativas."
   ]
  },
  {
   "cell_type": "markdown",
   "metadata": {},
   "source": [
    "### 2. Dos predictores en múltiples dominios\n",
    "\n",
    "En este ejemplo, dos predictores se han utilizado utilizando 10 conjuntos de datos. Concretamente, se ha calculado la precisión de una máquina de soporte de vectores (SVM) con kernel lineal y un árbol C50 en cada uno de los 10 conjuntos de datos. En la siguiente tabla se puede ver el resultado en cada uno de los conjunto de datos:"
   ]
  },
  {
   "cell_type": "code",
   "execution_count": 17,
   "metadata": {},
   "outputs": [
    {
     "data": {
      "text/html": [
       "<div>\n",
       "<style scoped>\n",
       "    .dataframe tbody tr th:only-of-type {\n",
       "        vertical-align: middle;\n",
       "    }\n",
       "\n",
       "    .dataframe tbody tr th {\n",
       "        vertical-align: top;\n",
       "    }\n",
       "\n",
       "    .dataframe thead th {\n",
       "        text-align: right;\n",
       "    }\n",
       "</style>\n",
       "<table border=\"1\" class=\"dataframe\">\n",
       "  <thead>\n",
       "    <tr style=\"text-align: right;\">\n",
       "      <th></th>\n",
       "      <th>Unnamed: 0</th>\n",
       "      <th>SVMLinear</th>\n",
       "      <th>C50</th>\n",
       "    </tr>\n",
       "  </thead>\n",
       "  <tbody>\n",
       "    <tr>\n",
       "      <th>0</th>\n",
       "      <td>hepatitis</td>\n",
       "      <td>0.844167</td>\n",
       "      <td>0.862917</td>\n",
       "    </tr>\n",
       "    <tr>\n",
       "      <th>1</th>\n",
       "      <td>iris</td>\n",
       "      <td>0.960000</td>\n",
       "      <td>0.946667</td>\n",
       "    </tr>\n",
       "    <tr>\n",
       "      <th>2</th>\n",
       "      <td>cox2</td>\n",
       "      <td>0.805042</td>\n",
       "      <td>0.835291</td>\n",
       "    </tr>\n",
       "    <tr>\n",
       "      <th>3</th>\n",
       "      <td>oil</td>\n",
       "      <td>0.969167</td>\n",
       "      <td>0.959798</td>\n",
       "    </tr>\n",
       "    <tr>\n",
       "      <th>4</th>\n",
       "      <td>dhfr</td>\n",
       "      <td>0.926136</td>\n",
       "      <td>0.910701</td>\n",
       "    </tr>\n",
       "    <tr>\n",
       "      <th>5</th>\n",
       "      <td>German</td>\n",
       "      <td>0.747000</td>\n",
       "      <td>0.756000</td>\n",
       "    </tr>\n",
       "    <tr>\n",
       "      <th>6</th>\n",
       "      <td>Seg</td>\n",
       "      <td>0.803320</td>\n",
       "      <td>0.845929</td>\n",
       "    </tr>\n",
       "    <tr>\n",
       "      <th>7</th>\n",
       "      <td>Breast</td>\n",
       "      <td>0.964244</td>\n",
       "      <td>0.961407</td>\n",
       "    </tr>\n",
       "    <tr>\n",
       "      <th>8</th>\n",
       "      <td>Pima</td>\n",
       "      <td>0.773445</td>\n",
       "      <td>0.757861</td>\n",
       "    </tr>\n",
       "    <tr>\n",
       "      <th>9</th>\n",
       "      <td>Sonar</td>\n",
       "      <td>0.745606</td>\n",
       "      <td>0.832078</td>\n",
       "    </tr>\n",
       "  </tbody>\n",
       "</table>\n",
       "</div>"
      ],
      "text/plain": [
       "  Unnamed: 0  SVMLinear       C50\n",
       "0  hepatitis   0.844167  0.862917\n",
       "1       iris   0.960000  0.946667\n",
       "2       cox2   0.805042  0.835291\n",
       "3        oil   0.969167  0.959798\n",
       "4       dhfr   0.926136  0.910701\n",
       "5     German   0.747000  0.756000\n",
       "6        Seg   0.803320  0.845929\n",
       "7     Breast   0.964244  0.961407\n",
       "8       Pima   0.773445  0.757861\n",
       "9      Sonar   0.745606  0.832078"
      ]
     },
     "execution_count": 17,
     "metadata": {},
     "output_type": "execute_result"
    }
   ],
   "source": [
    "ej3 = pd.read_csv('data/ejemplo3.dat')\n",
    "ej3.head(10)"
   ]
  },
  {
   "cell_type": "markdown",
   "metadata": {},
   "source": [
    "En este caso estamos comparando dos clasificadores en múltiples dominios. La recomendación es utilizar el test de la suma de rangos de Wilcoxon para muestras pareadas (o su versión de una muestra, calculando la diferencia de la precisión obtenida en cada dataset)."
   ]
  },
  {
   "cell_type": "code",
   "execution_count": 18,
   "metadata": {},
   "outputs": [
    {
     "name": "stdout",
     "output_type": "stream",
     "text": [
      "### Wilcoxon signed rank test with continuity correction\n",
      "### statistic = 19.0000, p-value = 0.4316\n"
     ]
    }
   ],
   "source": [
    "s, p = wilcoxon(ej3['SVMLinear'], ej3['C50'])\n",
    "print('### Wilcoxon signed rank test with continuity correction')\n",
    "print('### statistic = {:.4f}, p-value = {:.4f}'.format(s, p))"
   ]
  },
  {
   "cell_type": "markdown",
   "metadata": {},
   "source": [
    "Se puede afirmar que, con una confianza del 95%, no existen diferencias significativas entre la precisión de los dos clasificadores sobre el conjunto de datos seleccionados (W = 19 > $W_{4,0.05}$, p-value= 0.432 > 0.05)."
   ]
  },
  {
   "cell_type": "markdown",
   "metadata": {},
   "source": [
    "### 3. Múltiples predictores en múltiples dominios\n",
    "\n",
    "#### 3.1. Caso paramétrico\n",
    "\n",
    "Para esta sección vamos a seguir uno de los ejemplos presentados en [1]. En este ejemplo dispones de los datos de precisión de tres clasificadores en 10 conjunto de datos diferentes. El objetivo es determinar si existen diferencias significativas entre los distintos clasificadores en dichos conjunto de datos. Los resultados de entrentar los 3 clasificadores sobre los 10 conjuntos se pueden ver en la siguiente tabla:"
   ]
  },
  {
   "cell_type": "code",
   "execution_count": 19,
   "metadata": {},
   "outputs": [
    {
     "data": {
      "text/html": [
       "<div>\n",
       "<style scoped>\n",
       "    .dataframe tbody tr th:only-of-type {\n",
       "        vertical-align: middle;\n",
       "    }\n",
       "\n",
       "    .dataframe tbody tr th {\n",
       "        vertical-align: top;\n",
       "    }\n",
       "\n",
       "    .dataframe thead th {\n",
       "        text-align: right;\n",
       "    }\n",
       "</style>\n",
       "<table border=\"1\" class=\"dataframe\">\n",
       "  <thead>\n",
       "    <tr style=\"text-align: right;\">\n",
       "      <th></th>\n",
       "      <th>dataset</th>\n",
       "      <th>A</th>\n",
       "      <th>B</th>\n",
       "      <th>C</th>\n",
       "    </tr>\n",
       "  </thead>\n",
       "  <tbody>\n",
       "    <tr>\n",
       "      <th>0</th>\n",
       "      <td>1</td>\n",
       "      <td>0.8583</td>\n",
       "      <td>0.7586</td>\n",
       "      <td>0.8419</td>\n",
       "    </tr>\n",
       "    <tr>\n",
       "      <th>1</th>\n",
       "      <td>2</td>\n",
       "      <td>0.8591</td>\n",
       "      <td>0.7318</td>\n",
       "      <td>0.8590</td>\n",
       "    </tr>\n",
       "    <tr>\n",
       "      <th>2</th>\n",
       "      <td>3</td>\n",
       "      <td>0.8612</td>\n",
       "      <td>0.6908</td>\n",
       "      <td>0.8383</td>\n",
       "    </tr>\n",
       "    <tr>\n",
       "      <th>3</th>\n",
       "      <td>4</td>\n",
       "      <td>0.8582</td>\n",
       "      <td>0.7405</td>\n",
       "      <td>0.8511</td>\n",
       "    </tr>\n",
       "    <tr>\n",
       "      <th>4</th>\n",
       "      <td>5</td>\n",
       "      <td>0.8628</td>\n",
       "      <td>0.7471</td>\n",
       "      <td>0.8638</td>\n",
       "    </tr>\n",
       "    <tr>\n",
       "      <th>5</th>\n",
       "      <td>6</td>\n",
       "      <td>0.8642</td>\n",
       "      <td>0.6590</td>\n",
       "      <td>0.8120</td>\n",
       "    </tr>\n",
       "    <tr>\n",
       "      <th>6</th>\n",
       "      <td>7</td>\n",
       "      <td>0.8591</td>\n",
       "      <td>0.7625</td>\n",
       "      <td>0.8638</td>\n",
       "    </tr>\n",
       "    <tr>\n",
       "      <th>7</th>\n",
       "      <td>8</td>\n",
       "      <td>0.8610</td>\n",
       "      <td>0.7510</td>\n",
       "      <td>0.8675</td>\n",
       "    </tr>\n",
       "    <tr>\n",
       "      <th>8</th>\n",
       "      <td>9</td>\n",
       "      <td>0.8595</td>\n",
       "      <td>0.7050</td>\n",
       "      <td>0.8803</td>\n",
       "    </tr>\n",
       "    <tr>\n",
       "      <th>9</th>\n",
       "      <td>10</td>\n",
       "      <td>0.8612</td>\n",
       "      <td>0.7395</td>\n",
       "      <td>0.8718</td>\n",
       "    </tr>\n",
       "  </tbody>\n",
       "</table>\n",
       "</div>"
      ],
      "text/plain": [
       "   dataset       A       B       C\n",
       "0        1  0.8583  0.7586  0.8419\n",
       "1        2  0.8591  0.7318  0.8590\n",
       "2        3  0.8612  0.6908  0.8383\n",
       "3        4  0.8582  0.7405  0.8511\n",
       "4        5  0.8628  0.7471  0.8638\n",
       "5        6  0.8642  0.6590  0.8120\n",
       "6        7  0.8591  0.7625  0.8638\n",
       "7        8  0.8610  0.7510  0.8675\n",
       "8        9  0.8595  0.7050  0.8803\n",
       "9       10  0.8612  0.7395  0.8718"
      ]
     },
     "execution_count": 19,
     "metadata": {},
     "output_type": "execute_result"
    }
   ],
   "source": [
    "ej4 = pd.read_csv('data/ejemplo4.csv')\n",
    "ej4.columns = ['dataset', 'A', 'B', 'C']\n",
    "ej4.head(10)"
   ]
  },
  {
   "cell_type": "markdown",
   "metadata": {},
   "source": [
    "En este caso, al comparar múltiples clasificadores en múltiples dominios, debemos aplicar el test ANOVA de una vía para medidas pareadas o su equivalente no paramétrico, el test de Friedman. \n",
    "\n",
    "Antes de aplicar el test, comprobemos de forma descriptiva cómo se distribuyen los datos. Para ello, primero transformaremos el conjunto de datos como sigue: "
   ]
  },
  {
   "cell_type": "code",
   "execution_count": 20,
   "metadata": {},
   "outputs": [
    {
     "data": {
      "text/html": [
       "<div>\n",
       "<style scoped>\n",
       "    .dataframe tbody tr th:only-of-type {\n",
       "        vertical-align: middle;\n",
       "    }\n",
       "\n",
       "    .dataframe tbody tr th {\n",
       "        vertical-align: top;\n",
       "    }\n",
       "\n",
       "    .dataframe thead th {\n",
       "        text-align: right;\n",
       "    }\n",
       "</style>\n",
       "<table border=\"1\" class=\"dataframe\">\n",
       "  <thead>\n",
       "    <tr style=\"text-align: right;\">\n",
       "      <th></th>\n",
       "      <th>Accuracy</th>\n",
       "      <th>Method</th>\n",
       "      <th>Dataset</th>\n",
       "    </tr>\n",
       "  </thead>\n",
       "  <tbody>\n",
       "    <tr>\n",
       "      <th>0</th>\n",
       "      <td>0.8583</td>\n",
       "      <td>A</td>\n",
       "      <td>1</td>\n",
       "    </tr>\n",
       "    <tr>\n",
       "      <th>1</th>\n",
       "      <td>0.8591</td>\n",
       "      <td>A</td>\n",
       "      <td>2</td>\n",
       "    </tr>\n",
       "    <tr>\n",
       "      <th>2</th>\n",
       "      <td>0.8612</td>\n",
       "      <td>A</td>\n",
       "      <td>3</td>\n",
       "    </tr>\n",
       "    <tr>\n",
       "      <th>3</th>\n",
       "      <td>0.8582</td>\n",
       "      <td>A</td>\n",
       "      <td>4</td>\n",
       "    </tr>\n",
       "    <tr>\n",
       "      <th>4</th>\n",
       "      <td>0.8628</td>\n",
       "      <td>A</td>\n",
       "      <td>5</td>\n",
       "    </tr>\n",
       "    <tr>\n",
       "      <th>5</th>\n",
       "      <td>0.8642</td>\n",
       "      <td>A</td>\n",
       "      <td>6</td>\n",
       "    </tr>\n",
       "    <tr>\n",
       "      <th>6</th>\n",
       "      <td>0.8591</td>\n",
       "      <td>A</td>\n",
       "      <td>7</td>\n",
       "    </tr>\n",
       "    <tr>\n",
       "      <th>7</th>\n",
       "      <td>0.8610</td>\n",
       "      <td>A</td>\n",
       "      <td>8</td>\n",
       "    </tr>\n",
       "    <tr>\n",
       "      <th>8</th>\n",
       "      <td>0.8595</td>\n",
       "      <td>A</td>\n",
       "      <td>9</td>\n",
       "    </tr>\n",
       "    <tr>\n",
       "      <th>9</th>\n",
       "      <td>0.8612</td>\n",
       "      <td>A</td>\n",
       "      <td>10</td>\n",
       "    </tr>\n",
       "    <tr>\n",
       "      <th>0</th>\n",
       "      <td>0.7586</td>\n",
       "      <td>B</td>\n",
       "      <td>1</td>\n",
       "    </tr>\n",
       "    <tr>\n",
       "      <th>1</th>\n",
       "      <td>0.7318</td>\n",
       "      <td>B</td>\n",
       "      <td>2</td>\n",
       "    </tr>\n",
       "    <tr>\n",
       "      <th>2</th>\n",
       "      <td>0.6908</td>\n",
       "      <td>B</td>\n",
       "      <td>3</td>\n",
       "    </tr>\n",
       "    <tr>\n",
       "      <th>3</th>\n",
       "      <td>0.7405</td>\n",
       "      <td>B</td>\n",
       "      <td>4</td>\n",
       "    </tr>\n",
       "    <tr>\n",
       "      <th>4</th>\n",
       "      <td>0.7471</td>\n",
       "      <td>B</td>\n",
       "      <td>5</td>\n",
       "    </tr>\n",
       "    <tr>\n",
       "      <th>5</th>\n",
       "      <td>0.6590</td>\n",
       "      <td>B</td>\n",
       "      <td>6</td>\n",
       "    </tr>\n",
       "    <tr>\n",
       "      <th>6</th>\n",
       "      <td>0.7625</td>\n",
       "      <td>B</td>\n",
       "      <td>7</td>\n",
       "    </tr>\n",
       "    <tr>\n",
       "      <th>7</th>\n",
       "      <td>0.7510</td>\n",
       "      <td>B</td>\n",
       "      <td>8</td>\n",
       "    </tr>\n",
       "    <tr>\n",
       "      <th>8</th>\n",
       "      <td>0.7050</td>\n",
       "      <td>B</td>\n",
       "      <td>9</td>\n",
       "    </tr>\n",
       "    <tr>\n",
       "      <th>9</th>\n",
       "      <td>0.7395</td>\n",
       "      <td>B</td>\n",
       "      <td>10</td>\n",
       "    </tr>\n",
       "    <tr>\n",
       "      <th>0</th>\n",
       "      <td>0.8419</td>\n",
       "      <td>C</td>\n",
       "      <td>1</td>\n",
       "    </tr>\n",
       "    <tr>\n",
       "      <th>1</th>\n",
       "      <td>0.8590</td>\n",
       "      <td>C</td>\n",
       "      <td>2</td>\n",
       "    </tr>\n",
       "    <tr>\n",
       "      <th>2</th>\n",
       "      <td>0.8383</td>\n",
       "      <td>C</td>\n",
       "      <td>3</td>\n",
       "    </tr>\n",
       "    <tr>\n",
       "      <th>3</th>\n",
       "      <td>0.8511</td>\n",
       "      <td>C</td>\n",
       "      <td>4</td>\n",
       "    </tr>\n",
       "    <tr>\n",
       "      <th>4</th>\n",
       "      <td>0.8638</td>\n",
       "      <td>C</td>\n",
       "      <td>5</td>\n",
       "    </tr>\n",
       "    <tr>\n",
       "      <th>5</th>\n",
       "      <td>0.8120</td>\n",
       "      <td>C</td>\n",
       "      <td>6</td>\n",
       "    </tr>\n",
       "    <tr>\n",
       "      <th>6</th>\n",
       "      <td>0.8638</td>\n",
       "      <td>C</td>\n",
       "      <td>7</td>\n",
       "    </tr>\n",
       "    <tr>\n",
       "      <th>7</th>\n",
       "      <td>0.8675</td>\n",
       "      <td>C</td>\n",
       "      <td>8</td>\n",
       "    </tr>\n",
       "    <tr>\n",
       "      <th>8</th>\n",
       "      <td>0.8803</td>\n",
       "      <td>C</td>\n",
       "      <td>9</td>\n",
       "    </tr>\n",
       "    <tr>\n",
       "      <th>9</th>\n",
       "      <td>0.8718</td>\n",
       "      <td>C</td>\n",
       "      <td>10</td>\n",
       "    </tr>\n",
       "  </tbody>\n",
       "</table>\n",
       "</div>"
      ],
      "text/plain": [
       "   Accuracy Method  Dataset\n",
       "0    0.8583      A        1\n",
       "1    0.8591      A        2\n",
       "2    0.8612      A        3\n",
       "3    0.8582      A        4\n",
       "4    0.8628      A        5\n",
       "5    0.8642      A        6\n",
       "6    0.8591      A        7\n",
       "7    0.8610      A        8\n",
       "8    0.8595      A        9\n",
       "9    0.8612      A       10\n",
       "0    0.7586      B        1\n",
       "1    0.7318      B        2\n",
       "2    0.6908      B        3\n",
       "3    0.7405      B        4\n",
       "4    0.7471      B        5\n",
       "5    0.6590      B        6\n",
       "6    0.7625      B        7\n",
       "7    0.7510      B        8\n",
       "8    0.7050      B        9\n",
       "9    0.7395      B       10\n",
       "0    0.8419      C        1\n",
       "1    0.8590      C        2\n",
       "2    0.8383      C        3\n",
       "3    0.8511      C        4\n",
       "4    0.8638      C        5\n",
       "5    0.8120      C        6\n",
       "6    0.8638      C        7\n",
       "7    0.8675      C        8\n",
       "8    0.8803      C        9\n",
       "9    0.8718      C       10"
      ]
     },
     "execution_count": 20,
     "metadata": {},
     "output_type": "execute_result"
    }
   ],
   "source": [
    "ej4_t = pd.DataFrame({\n",
    "    'Accuracy': pd.concat([ej4['A'], ej4['B'], ej4['C']]),\n",
    "    'Method': np.repeat(['A', 'B', 'C'], 10),\n",
    "    'Dataset': pd.concat([ej4['dataset'], ej4['dataset'], ej4['dataset']])\n",
    "})\n",
    "ej4_t.head(30)"
   ]
  },
  {
   "cell_type": "markdown",
   "metadata": {},
   "source": [
    "Hagamos primero un análisis descriptivo y gráfico: "
   ]
  },
  {
   "cell_type": "code",
   "execution_count": 21,
   "metadata": {},
   "outputs": [
    {
     "data": {
      "image/png": "[encoded data removed]",
      "text/plain": [
       "<Figure size 640x480 with 1 Axes>"
      ]
     },
     "metadata": {},
     "output_type": "display_data"
    }
   ],
   "source": [
    "import matplotlib.pyplot as plt\n",
    "import seaborn as sns\n",
    "ax = sns.boxplot(x='Method', y='Accuracy', data=ej4_t, color='#99c2a2')\n",
    "ax = sns.swarmplot(x='Method', y='Accuracy', data=ej4_t, color='#7d0013')\n",
    "plt.show()"
   ]
  },
  {
   "cell_type": "code",
   "execution_count": 22,
   "metadata": {},
   "outputs": [
    {
     "name": "stdout",
     "output_type": "stream",
     "text": [
      "Accuracy media y desviación típica por método:\n"
     ]
    },
    {
     "data": {
      "text/html": [
       "<div>\n",
       "<style scoped>\n",
       "    .dataframe tbody tr th:only-of-type {\n",
       "        vertical-align: middle;\n",
       "    }\n",
       "\n",
       "    .dataframe tbody tr th {\n",
       "        vertical-align: top;\n",
       "    }\n",
       "\n",
       "    .dataframe thead th {\n",
       "        text-align: right;\n",
       "    }\n",
       "</style>\n",
       "<table border=\"1\" class=\"dataframe\">\n",
       "  <thead>\n",
       "    <tr style=\"text-align: right;\">\n",
       "      <th></th>\n",
       "      <th>mean</th>\n",
       "      <th>std</th>\n",
       "    </tr>\n",
       "    <tr>\n",
       "      <th>Method</th>\n",
       "      <th></th>\n",
       "      <th></th>\n",
       "    </tr>\n",
       "  </thead>\n",
       "  <tbody>\n",
       "    <tr>\n",
       "      <th>A</th>\n",
       "      <td>0.86046</td>\n",
       "      <td>0.001979</td>\n",
       "    </tr>\n",
       "    <tr>\n",
       "      <th>B</th>\n",
       "      <td>0.72858</td>\n",
       "      <td>0.033323</td>\n",
       "    </tr>\n",
       "    <tr>\n",
       "      <th>C</th>\n",
       "      <td>0.85495</td>\n",
       "      <td>0.019900</td>\n",
       "    </tr>\n",
       "  </tbody>\n",
       "</table>\n",
       "</div>"
      ],
      "text/plain": [
       "           mean       std\n",
       "Method                   \n",
       "A       0.86046  0.001979\n",
       "B       0.72858  0.033323\n",
       "C       0.85495  0.019900"
      ]
     },
     "execution_count": 22,
     "metadata": {},
     "output_type": "execute_result"
    }
   ],
   "source": [
    "print('Accuracy media y desviación típica por método:')\n",
    "ej4_t.groupby('Method')['Accuracy'].agg(['mean', 'std'])"
   ]
  },
  {
   "cell_type": "markdown",
   "metadata": {},
   "source": [
    "Aunque a simple vista se puede comprobar que no tienen la misma media, realicemos dicha comprobación a través del test de ANNOVA. \n",
    "Para ello debemos de comprobar las condiciones de aplicabilidad para el test ANOVA de una vía para medidas pareadas: normalidad y esfericidad (el equivalente a la homocedasticidad para el ANOVA de medidas pareadas).\n",
    "\n",
    "En el caso del test ANOVA de una vía para medidas pareadas se comprueba si las medias entre los diferentes clasificadores son iguales, es decir:\n",
    "\n",
    "$$ H0: \\mu_1 = \\mu_2 = \\dots = \\mu_n $$\n",
    "$$ H1: \\text{las medias no son iguales} $$\n",
    "\n",
    "Para la condición de normalidad, debemos comprobar que la muestra de cada uno de los grupos procede de una población con distribución normal. Como hemos comentado anteriormente, esto se puede realizar mediante el test de Shapiro-Wilks:"
   ]
  },
  {
   "cell_type": "code",
   "execution_count": 23,
   "metadata": {},
   "outputs": [
    {
     "name": "stdout",
     "output_type": "stream",
     "text": [
      "### Shapiro-Wilk normality test for classifier A\n",
      "### statistic = 0.9189, p-value = 0.3477\n",
      "### Shapiro-Wilk normality test for classifier A\n",
      "### statistic = 0.8741, p-value = 0.1114\n",
      "### Shapiro-Wilk normality test for classifier A\n",
      "### statistic = 0.9258, p-value = 0.4083\n"
     ]
    }
   ],
   "source": [
    "# Clasificador A\n",
    "s, p = shapiro(ej4['A'])\n",
    "print('### Shapiro-Wilk normality test for classifier A')\n",
    "print('### statistic = {:.4f}, p-value = {:.4f}'.format(s, p))\n",
    "# Clasificador B\n",
    "s, p = shapiro(ej4['B'])\n",
    "print('### Shapiro-Wilk normality test for classifier A')\n",
    "print('### statistic = {:.4f}, p-value = {:.4f}'.format(s, p))\n",
    "# Clasificador C\n",
    "s, p = shapiro(ej4['C'])\n",
    "print('### Shapiro-Wilk normality test for classifier A')\n",
    "print('### statistic = {:.4f}, p-value = {:.4f}'.format(s, p))"
   ]
  },
  {
   "cell_type": "markdown",
   "metadata": {},
   "source": [
    "Como se puede deducir de los datos, las precisiones obtenidas por cada clasificador en cada uno de los conjuntos de datos proceden de una distribución normal con un 95% de confianza (WClassA= 0.919, p-valueClassA= 0.348, WClassB= 0.874, p-valueClassB = 0.111, WClassC= 0.926, p-valueClassC=0.408). \n",
    "\n",
    "El siguiente paso es comprobar la homogeneidad de las varianzas, que en el caso de un ANOVA con medidas repetidas se traduce en comprobar la esfericidad de la matriz de covarianzas. "
   ]
  },
  {
   "cell_type": "code",
   "execution_count": 24,
   "metadata": {},
   "outputs": [],
   "source": [
    "#pip3 install pingouin"
   ]
  },
  {
   "cell_type": "code",
   "execution_count": 25,
   "metadata": {},
   "outputs": [
    {
     "name": "stdout",
     "output_type": "stream",
     "text": [
      "Sphericity: True, statistic: inf, chi-square-statistic: -inf, degrees-of-freedom: 2, p-value: 1.000\n"
     ]
    },
    {
     "name": "stderr",
     "output_type": "stream",
     "text": [
      "/home/alourido/anaconda3/lib/python3.11/site-packages/pingouin/distribution.py:1004: RuntimeWarning: divide by zero encountered in scalar divide\n",
      "  W = np.prod(eig) / (eig.sum() / d) ** d\n"
     ]
    }
   ],
   "source": [
    "import pingouin as pg\n",
    "#spher, W, chisq, dof, pval = pg.sphericity(ej4)\n",
    "spher, W, chisq, dof, pval = pg.sphericity(\n",
    "    data       = ej4_t,\n",
    "    dv         = 'Accuracy',\n",
    "    within     = 'Method',\n",
    "    subject    = 'Dataset',\n",
    "    method     = 'mauchly',\n",
    "    alpha      = 0.05\n",
    ")\n",
    "print('Sphericity: {}, statistic: {:.3f}, chi-square-statistic: {:.3f}, degrees-of-freedom: {}, p-value: {:.3f}'.format(\n",
    "    spher, W, chisq, dof, pval\n",
    "))"
   ]
  },
  {
   "cell_type": "markdown",
   "metadata": {},
   "source": [
    "Como podemos ver que, con el 95% de confianza, no podemos rechazar la hipótesis nula de que la matriz de covarianzas cumple la propiedad de esfericidad (W=0.574, p-value= 0.511).\n",
    "\n",
    "También podríamos haber utilizado directamente la función rm_anova() de la misma librería, que nos calcula tanto el test ANOVA para medidas repetidas suponiendo que se cumple la esfericidad, el test de Mauchly y test ANOVA para medidas repetidas con la corrección de p-value para compensar el incumplimiento de la condición de esfericidad, utilizando el Greenhouse-Geisser and Huynh-Feldt epsilon value. En esta función debemos indicar en el parámetro dv la variable dependiente, en el parámetro subject la identificación de las muestras, en nuestro caso las bases de datos y en el parámetro within la variable predictora, en nuestro caso la que define los diferentes modelos que se están comparando."
   ]
  },
  {
   "cell_type": "code",
   "execution_count": 26,
   "metadata": {},
   "outputs": [
    {
     "name": "stderr",
     "output_type": "stream",
     "text": [
      "/home/alourido/anaconda3/lib/python3.11/site-packages/pingouin/distribution.py:1004: RuntimeWarning: divide by zero encountered in scalar divide\n",
      "  W = np.prod(eig) / (eig.sum() / d) ** d\n"
     ]
    },
    {
     "data": {
      "text/html": [
       "<div>\n",
       "<style scoped>\n",
       "    .dataframe tbody tr th:only-of-type {\n",
       "        vertical-align: middle;\n",
       "    }\n",
       "\n",
       "    .dataframe tbody tr th {\n",
       "        vertical-align: top;\n",
       "    }\n",
       "\n",
       "    .dataframe thead th {\n",
       "        text-align: right;\n",
       "    }\n",
       "</style>\n",
       "<table border=\"1\" class=\"dataframe\">\n",
       "  <thead>\n",
       "    <tr style=\"text-align: right;\">\n",
       "      <th></th>\n",
       "      <th>Source</th>\n",
       "      <th>SS</th>\n",
       "      <th>DF</th>\n",
       "      <th>MS</th>\n",
       "      <th>F</th>\n",
       "      <th>p-unc</th>\n",
       "      <th>p-GG-corr</th>\n",
       "      <th>ng2</th>\n",
       "      <th>eps</th>\n",
       "      <th>sphericity</th>\n",
       "      <th>W-spher</th>\n",
       "      <th>p-spher</th>\n",
       "    </tr>\n",
       "  </thead>\n",
       "  <tbody>\n",
       "    <tr>\n",
       "      <th>0</th>\n",
       "      <td>Method</td>\n",
       "      <td>0.111307</td>\n",
       "      <td>2</td>\n",
       "      <td>0.055653</td>\n",
       "      <td>142.418041</td>\n",
       "      <td>9.259424e-12</td>\n",
       "      <td>2.290742e-09</td>\n",
       "      <td>0.891167</td>\n",
       "      <td>0.757005</td>\n",
       "      <td>True</td>\n",
       "      <td>inf</td>\n",
       "      <td>1.0</td>\n",
       "    </tr>\n",
       "    <tr>\n",
       "      <th>1</th>\n",
       "      <td>Error</td>\n",
       "      <td>0.007034</td>\n",
       "      <td>18</td>\n",
       "      <td>0.000391</td>\n",
       "      <td>NaN</td>\n",
       "      <td>NaN</td>\n",
       "      <td>NaN</td>\n",
       "      <td>NaN</td>\n",
       "      <td>NaN</td>\n",
       "      <td>NaN</td>\n",
       "      <td>NaN</td>\n",
       "      <td>NaN</td>\n",
       "    </tr>\n",
       "  </tbody>\n",
       "</table>\n",
       "</div>"
      ],
      "text/plain": [
       "   Source        SS  DF        MS           F         p-unc     p-GG-corr  \\\n",
       "0  Method  0.111307   2  0.055653  142.418041  9.259424e-12  2.290742e-09   \n",
       "1   Error  0.007034  18  0.000391         NaN           NaN           NaN   \n",
       "\n",
       "        ng2       eps sphericity  W-spher  p-spher  \n",
       "0  0.891167  0.757005       True      inf      1.0  \n",
       "1       NaN       NaN        NaN      NaN      NaN  "
      ]
     },
     "execution_count": 26,
     "metadata": {},
     "output_type": "execute_result"
    }
   ],
   "source": [
    "\n",
    "pg.rm_anova(\n",
    "    data       = ej4_t,\n",
    "    dv         = 'Accuracy',\n",
    "    within     = 'Method',\n",
    "    subject    = 'Dataset',\n",
    "    detailed   = True,\n",
    "    correction = True\n",
    ")"
   ]
  },
  {
   "cell_type": "markdown",
   "metadata": {},
   "source": [
    "Como se puede apreciar, en primer lugar se nos muestra el resultado del test ANOVA para medidas repetidas suponiendo que se cumple la esfericidad, que nos indica que existen diferencias entre los clasificadores altamente significativas (F=142.418, p-value (p-unc) < 10-4). Las columnas sphericity y p-spher  (p-valor) se corresponden con el test de Mauchly para la esfericidad, que nos indica que no podemos rechazar la hipótesis de que la matriz de covarianzas cumpla esta propiedad. Las columnas eps (Greenhouse-Geisser epsilon factor) y p-GG-corr (p-valor) muestran el resultado de aplicar un procedimiento que permite corregir la desviación producida por cumplir con la esfericidad a los resultados de test ANOVA anteriormente realizados.\n",
    "\n",
    "Como ya hemos indicado, ahora debemos proceder con el test de Tukey para identificar donde están las diferencias. Para ello vamos a utilizar la función tukeyTest() del paquete PMCMRplus."
   ]
  },
  {
   "cell_type": "code",
   "execution_count": 27,
   "metadata": {},
   "outputs": [
    {
     "name": "stdout",
     "output_type": "stream",
     "text": [
      "Multiple Comparison of Means - Tukey HSD, FWER=0.05\n",
      "===================================================\n",
      "group1 group2 meandiff p-adj   lower  upper  reject\n",
      "---------------------------------------------------\n",
      "     A      B  -0.1319    0.0 -0.1568 -0.107   True\n",
      "     A      C  -0.0055 0.8478 -0.0304 0.0194  False\n",
      "     B      C   0.1264    0.0  0.1015 0.1512   True\n",
      "---------------------------------------------------\n"
     ]
    }
   ],
   "source": [
    "from statsmodels.stats.multicomp import pairwise_tukeyhsd\n",
    "\n",
    "# perform multiple pairwise comparison (Tukey HSD)\n",
    "m_comp = pairwise_tukeyhsd(endog=ej4_t['Accuracy'], groups=ej4_t['Method'], alpha=0.05)\n",
    "print(m_comp)"
   ]
  },
  {
   "cell_type": "markdown",
   "metadata": {},
   "source": [
    "Como se pueden ver en los resultados, existen diferencias altamente significativas entre el clasificador A y el clasificador B (p-value < 10-4) y el entre el B y el C (p-value < 10-4). En ambos casos, los datos estimados para la media de las diferencias indican que, teniendo en cuenta la precisión, el B es peor que el resto de los clasificadores. No podemos establecer diferencias significativas entre el A y el C (Z= -0.777, p-value= 0.848). "
   ]
  },
  {
   "cell_type": "markdown",
   "metadata": {},
   "source": [
    "#### 3.2. Caso no paramétrico\n",
    "\n"
   ]
  },
  {
   "cell_type": "markdown",
   "metadata": {},
   "source": [
    "Supongamos que queremos comprobar la eficacia de una SVM con kernel lineal, un árbol C5.0 y una red neuronal en diferentes conjuntos de datos. Para ello, hemos entrenado cada uno de los clasificadores en cada uno de los conjuntos de datos obteniendo el índice Kappa en cada evaluación. Los resultados se pueden apreciar en la siguiente tabla:"
   ]
  },
  {
   "cell_type": "code",
   "execution_count": 28,
   "metadata": {},
   "outputs": [
    {
     "data": {
      "text/html": [
       "<div>\n",
       "<style scoped>\n",
       "    .dataframe tbody tr th:only-of-type {\n",
       "        vertical-align: middle;\n",
       "    }\n",
       "\n",
       "    .dataframe tbody tr th {\n",
       "        vertical-align: top;\n",
       "    }\n",
       "\n",
       "    .dataframe thead th {\n",
       "        text-align: right;\n",
       "    }\n",
       "</style>\n",
       "<table border=\"1\" class=\"dataframe\">\n",
       "  <thead>\n",
       "    <tr style=\"text-align: right;\">\n",
       "      <th></th>\n",
       "      <th>Dataset</th>\n",
       "      <th>SVMLinear</th>\n",
       "      <th>C50</th>\n",
       "      <th>NNET</th>\n",
       "    </tr>\n",
       "  </thead>\n",
       "  <tbody>\n",
       "    <tr>\n",
       "      <th>0</th>\n",
       "      <td>hepatitis</td>\n",
       "      <td>0.458175</td>\n",
       "      <td>0.523767</td>\n",
       "      <td>0.441098</td>\n",
       "    </tr>\n",
       "    <tr>\n",
       "      <th>1</th>\n",
       "      <td>iris</td>\n",
       "      <td>0.940000</td>\n",
       "      <td>0.920000</td>\n",
       "      <td>0.950000</td>\n",
       "    </tr>\n",
       "    <tr>\n",
       "      <th>2</th>\n",
       "      <td>cox2</td>\n",
       "      <td>0.356839</td>\n",
       "      <td>0.392446</td>\n",
       "      <td>0.427785</td>\n",
       "    </tr>\n",
       "    <tr>\n",
       "      <th>3</th>\n",
       "      <td>oil</td>\n",
       "      <td>0.957299</td>\n",
       "      <td>0.946611</td>\n",
       "      <td>0.982979</td>\n",
       "    </tr>\n",
       "    <tr>\n",
       "      <th>4</th>\n",
       "      <td>dhfr</td>\n",
       "      <td>0.842190</td>\n",
       "      <td>0.809820</td>\n",
       "      <td>0.843982</td>\n",
       "    </tr>\n",
       "    <tr>\n",
       "      <th>5</th>\n",
       "      <td>German</td>\n",
       "      <td>0.357970</td>\n",
       "      <td>0.378608</td>\n",
       "      <td>0.388413</td>\n",
       "    </tr>\n",
       "    <tr>\n",
       "      <th>6</th>\n",
       "      <td>Seg</td>\n",
       "      <td>0.567466</td>\n",
       "      <td>0.664388</td>\n",
       "      <td>0.578170</td>\n",
       "    </tr>\n",
       "    <tr>\n",
       "      <th>7</th>\n",
       "      <td>Breast</td>\n",
       "      <td>0.920248</td>\n",
       "      <td>0.914644</td>\n",
       "      <td>0.931243</td>\n",
       "    </tr>\n",
       "    <tr>\n",
       "      <th>8</th>\n",
       "      <td>Pima</td>\n",
       "      <td>0.476974</td>\n",
       "      <td>0.457351</td>\n",
       "      <td>0.485749</td>\n",
       "    </tr>\n",
       "    <tr>\n",
       "      <th>9</th>\n",
       "      <td>Sonar</td>\n",
       "      <td>0.489955</td>\n",
       "      <td>0.661162</td>\n",
       "      <td>0.698528</td>\n",
       "    </tr>\n",
       "  </tbody>\n",
       "</table>\n",
       "</div>"
      ],
      "text/plain": [
       "     Dataset  SVMLinear       C50      NNET\n",
       "0  hepatitis   0.458175  0.523767  0.441098\n",
       "1       iris   0.940000  0.920000  0.950000\n",
       "2       cox2   0.356839  0.392446  0.427785\n",
       "3        oil   0.957299  0.946611  0.982979\n",
       "4       dhfr   0.842190  0.809820  0.843982\n",
       "5     German   0.357970  0.378608  0.388413\n",
       "6        Seg   0.567466  0.664388  0.578170\n",
       "7     Breast   0.920248  0.914644  0.931243\n",
       "8       Pima   0.476974  0.457351  0.485749\n",
       "9      Sonar   0.489955  0.661162  0.698528"
      ]
     },
     "execution_count": 28,
     "metadata": {},
     "output_type": "execute_result"
    }
   ],
   "source": [
    "ej5 = pd.read_csv('data/ejemplo3TablaKappa.csv')\n",
    "ej5.columns = ['Dataset', 'SVMLinear', 'C50', 'NNET']\n",
    "ej5.head(10)"
   ]
  },
  {
   "cell_type": "markdown",
   "metadata": {},
   "source": [
    "Como en el caso anterior, tenemos que elegir entre un test ANOVA de una vía para medidas pareadas o su equivalente no paramétrico el test de Friedman, dependiendo si se cumplen los supuestos para el test ANOVA. Como en el caso anterior, resulta más cómodo transformar la tabla, con la información sobre las agrupaciones en una columna."
   ]
  },
  {
   "cell_type": "code",
   "execution_count": 29,
   "metadata": {},
   "outputs": [
    {
     "data": {
      "text/html": [
       "<div>\n",
       "<style scoped>\n",
       "    .dataframe tbody tr th:only-of-type {\n",
       "        vertical-align: middle;\n",
       "    }\n",
       "\n",
       "    .dataframe tbody tr th {\n",
       "        vertical-align: top;\n",
       "    }\n",
       "\n",
       "    .dataframe thead th {\n",
       "        text-align: right;\n",
       "    }\n",
       "</style>\n",
       "<table border=\"1\" class=\"dataframe\">\n",
       "  <thead>\n",
       "    <tr style=\"text-align: right;\">\n",
       "      <th></th>\n",
       "      <th>Kappa</th>\n",
       "      <th>Method</th>\n",
       "      <th>Dataset</th>\n",
       "    </tr>\n",
       "  </thead>\n",
       "  <tbody>\n",
       "    <tr>\n",
       "      <th>0</th>\n",
       "      <td>0.458175</td>\n",
       "      <td>SVMLinear</td>\n",
       "      <td>hepatitis</td>\n",
       "    </tr>\n",
       "    <tr>\n",
       "      <th>1</th>\n",
       "      <td>0.940000</td>\n",
       "      <td>SVMLinear</td>\n",
       "      <td>iris</td>\n",
       "    </tr>\n",
       "    <tr>\n",
       "      <th>2</th>\n",
       "      <td>0.356839</td>\n",
       "      <td>SVMLinear</td>\n",
       "      <td>cox2</td>\n",
       "    </tr>\n",
       "    <tr>\n",
       "      <th>3</th>\n",
       "      <td>0.957299</td>\n",
       "      <td>SVMLinear</td>\n",
       "      <td>oil</td>\n",
       "    </tr>\n",
       "    <tr>\n",
       "      <th>4</th>\n",
       "      <td>0.842190</td>\n",
       "      <td>SVMLinear</td>\n",
       "      <td>dhfr</td>\n",
       "    </tr>\n",
       "    <tr>\n",
       "      <th>5</th>\n",
       "      <td>0.357970</td>\n",
       "      <td>SVMLinear</td>\n",
       "      <td>German</td>\n",
       "    </tr>\n",
       "    <tr>\n",
       "      <th>6</th>\n",
       "      <td>0.567466</td>\n",
       "      <td>SVMLinear</td>\n",
       "      <td>Seg</td>\n",
       "    </tr>\n",
       "    <tr>\n",
       "      <th>7</th>\n",
       "      <td>0.920248</td>\n",
       "      <td>SVMLinear</td>\n",
       "      <td>Breast</td>\n",
       "    </tr>\n",
       "    <tr>\n",
       "      <th>8</th>\n",
       "      <td>0.476974</td>\n",
       "      <td>SVMLinear</td>\n",
       "      <td>Pima</td>\n",
       "    </tr>\n",
       "    <tr>\n",
       "      <th>9</th>\n",
       "      <td>0.489955</td>\n",
       "      <td>SVMLinear</td>\n",
       "      <td>Sonar</td>\n",
       "    </tr>\n",
       "    <tr>\n",
       "      <th>0</th>\n",
       "      <td>0.523767</td>\n",
       "      <td>C50</td>\n",
       "      <td>hepatitis</td>\n",
       "    </tr>\n",
       "    <tr>\n",
       "      <th>1</th>\n",
       "      <td>0.920000</td>\n",
       "      <td>C50</td>\n",
       "      <td>iris</td>\n",
       "    </tr>\n",
       "    <tr>\n",
       "      <th>2</th>\n",
       "      <td>0.392446</td>\n",
       "      <td>C50</td>\n",
       "      <td>cox2</td>\n",
       "    </tr>\n",
       "    <tr>\n",
       "      <th>3</th>\n",
       "      <td>0.946611</td>\n",
       "      <td>C50</td>\n",
       "      <td>oil</td>\n",
       "    </tr>\n",
       "    <tr>\n",
       "      <th>4</th>\n",
       "      <td>0.809820</td>\n",
       "      <td>C50</td>\n",
       "      <td>dhfr</td>\n",
       "    </tr>\n",
       "    <tr>\n",
       "      <th>5</th>\n",
       "      <td>0.378608</td>\n",
       "      <td>C50</td>\n",
       "      <td>German</td>\n",
       "    </tr>\n",
       "    <tr>\n",
       "      <th>6</th>\n",
       "      <td>0.664388</td>\n",
       "      <td>C50</td>\n",
       "      <td>Seg</td>\n",
       "    </tr>\n",
       "    <tr>\n",
       "      <th>7</th>\n",
       "      <td>0.914644</td>\n",
       "      <td>C50</td>\n",
       "      <td>Breast</td>\n",
       "    </tr>\n",
       "    <tr>\n",
       "      <th>8</th>\n",
       "      <td>0.457351</td>\n",
       "      <td>C50</td>\n",
       "      <td>Pima</td>\n",
       "    </tr>\n",
       "    <tr>\n",
       "      <th>9</th>\n",
       "      <td>0.661162</td>\n",
       "      <td>C50</td>\n",
       "      <td>Sonar</td>\n",
       "    </tr>\n",
       "    <tr>\n",
       "      <th>0</th>\n",
       "      <td>0.441098</td>\n",
       "      <td>NNET</td>\n",
       "      <td>hepatitis</td>\n",
       "    </tr>\n",
       "    <tr>\n",
       "      <th>1</th>\n",
       "      <td>0.950000</td>\n",
       "      <td>NNET</td>\n",
       "      <td>iris</td>\n",
       "    </tr>\n",
       "    <tr>\n",
       "      <th>2</th>\n",
       "      <td>0.427785</td>\n",
       "      <td>NNET</td>\n",
       "      <td>cox2</td>\n",
       "    </tr>\n",
       "    <tr>\n",
       "      <th>3</th>\n",
       "      <td>0.982979</td>\n",
       "      <td>NNET</td>\n",
       "      <td>oil</td>\n",
       "    </tr>\n",
       "    <tr>\n",
       "      <th>4</th>\n",
       "      <td>0.843982</td>\n",
       "      <td>NNET</td>\n",
       "      <td>dhfr</td>\n",
       "    </tr>\n",
       "    <tr>\n",
       "      <th>5</th>\n",
       "      <td>0.388413</td>\n",
       "      <td>NNET</td>\n",
       "      <td>German</td>\n",
       "    </tr>\n",
       "    <tr>\n",
       "      <th>6</th>\n",
       "      <td>0.578170</td>\n",
       "      <td>NNET</td>\n",
       "      <td>Seg</td>\n",
       "    </tr>\n",
       "    <tr>\n",
       "      <th>7</th>\n",
       "      <td>0.931243</td>\n",
       "      <td>NNET</td>\n",
       "      <td>Breast</td>\n",
       "    </tr>\n",
       "    <tr>\n",
       "      <th>8</th>\n",
       "      <td>0.485749</td>\n",
       "      <td>NNET</td>\n",
       "      <td>Pima</td>\n",
       "    </tr>\n",
       "    <tr>\n",
       "      <th>9</th>\n",
       "      <td>0.698528</td>\n",
       "      <td>NNET</td>\n",
       "      <td>Sonar</td>\n",
       "    </tr>\n",
       "  </tbody>\n",
       "</table>\n",
       "</div>"
      ],
      "text/plain": [
       "      Kappa     Method    Dataset\n",
       "0  0.458175  SVMLinear  hepatitis\n",
       "1  0.940000  SVMLinear       iris\n",
       "2  0.356839  SVMLinear       cox2\n",
       "3  0.957299  SVMLinear        oil\n",
       "4  0.842190  SVMLinear       dhfr\n",
       "5  0.357970  SVMLinear     German\n",
       "6  0.567466  SVMLinear        Seg\n",
       "7  0.920248  SVMLinear     Breast\n",
       "8  0.476974  SVMLinear       Pima\n",
       "9  0.489955  SVMLinear      Sonar\n",
       "0  0.523767        C50  hepatitis\n",
       "1  0.920000        C50       iris\n",
       "2  0.392446        C50       cox2\n",
       "3  0.946611        C50        oil\n",
       "4  0.809820        C50       dhfr\n",
       "5  0.378608        C50     German\n",
       "6  0.664388        C50        Seg\n",
       "7  0.914644        C50     Breast\n",
       "8  0.457351        C50       Pima\n",
       "9  0.661162        C50      Sonar\n",
       "0  0.441098       NNET  hepatitis\n",
       "1  0.950000       NNET       iris\n",
       "2  0.427785       NNET       cox2\n",
       "3  0.982979       NNET        oil\n",
       "4  0.843982       NNET       dhfr\n",
       "5  0.388413       NNET     German\n",
       "6  0.578170       NNET        Seg\n",
       "7  0.931243       NNET     Breast\n",
       "8  0.485749       NNET       Pima\n",
       "9  0.698528       NNET      Sonar"
      ]
     },
     "execution_count": 29,
     "metadata": {},
     "output_type": "execute_result"
    }
   ],
   "source": [
    "ej5_t = pd.DataFrame({\n",
    "    'Kappa': pd.concat([ej5['SVMLinear'], ej5['C50'], ej5['NNET']]),\n",
    "    'Method': np.repeat(['SVMLinear', 'C50', 'NNET'], 10),\n",
    "    'Dataset': pd.concat([ej5['Dataset'], ej5['Dataset'], ej5['Dataset']])\n",
    "})\n",
    "ej5_t.head(30)"
   ]
  },
  {
   "cell_type": "markdown",
   "metadata": {},
   "source": [
    "Podemos comprobar la normalidad en cada grupo de la siguiente forma:"
   ]
  },
  {
   "cell_type": "code",
   "execution_count": 30,
   "metadata": {},
   "outputs": [
    {
     "name": "stdout",
     "output_type": "stream",
     "text": [
      "### Shapiro-Wilk normality test for classifier SVMLinear\n",
      "### statistic = 0.8372, p-value = 0.0409\n",
      "### Shapiro-Wilk normality test for classifier C50\n",
      "### statistic = 0.8956, p-value = 0.1958\n",
      "### Shapiro-Wilk normality test for classifier NNET\n",
      "### statistic = 0.8746, p-value = 0.1130\n"
     ]
    }
   ],
   "source": [
    "# Clasificador SVMLinear\n",
    "s, p = shapiro(ej5['SVMLinear'])\n",
    "print('### Shapiro-Wilk normality test for classifier SVMLinear')\n",
    "print('### statistic = {:.4f}, p-value = {:.4f}'.format(s, p))\n",
    "# Clasificador C50\n",
    "s, p = shapiro(ej5['C50'])\n",
    "print('### Shapiro-Wilk normality test for classifier C50')\n",
    "print('### statistic = {:.4f}, p-value = {:.4f}'.format(s, p))\n",
    "# Clasificador NNET\n",
    "s, p = shapiro(ej5['NNET'])\n",
    "print('### Shapiro-Wilk normality test for classifier NNET')\n",
    "print('### statistic = {:.4f}, p-value = {:.4f}'.format(s, p))"
   ]
  },
  {
   "cell_type": "markdown",
   "metadata": {},
   "source": [
    "Como podemos ver la muestra obtenida para el clasificador SVM no cumple la normalidad (WSVM = 0.837, p-value= 0.041 < 0.05) con lo que debemos proceder a aplicar el test de Friedman. En el caso del test ANOVA de una vía para medidas pareadas se comprueba si las medias entre los diferentes clasificadores son iguales, es decir:\n",
    "\n",
    "$$ H0: \\eta_1 = \\eta_2 = \\dots = \\eta_n $$\n",
    "$$ H1: \\text{las medianas no son iguales} $$"
   ]
  },
  {
   "cell_type": "code",
   "execution_count": 31,
   "metadata": {},
   "outputs": [
    {
     "name": "stdout",
     "output_type": "stream",
     "text": [
      "### Friedman rank sum test\n",
      "### statistic = 7.4000, p-value = 0.0247\n"
     ]
    }
   ],
   "source": [
    "from scipy.stats import friedmanchisquare\n",
    "\n",
    "s, p = friedmanchisquare(ej5['SVMLinear'], ej5['C50'], ej5['NNET'])\n",
    "print('### Friedman rank sum test')\n",
    "print('### statistic = {:.4f}, p-value = {:.4f}'.format(s, p))"
   ]
  },
  {
   "cell_type": "markdown",
   "metadata": {},
   "source": [
    "Como podemos observar, podemos afirmar con una del 95% que existen diferencias significativas en los índices Kappas obtenidos por los tres clasificadores en los conjuntos de datos utilizados (F= 7.4, p-value= 0.025 < 0.05 ). Una vez confirmado la existencia de diferencias entre los clasificadores, tenemos que aplicar el test post hoc de Nemenyi para localizar dónde se encuentran dichas diferencias."
   ]
  },
  {
   "cell_type": "code",
   "execution_count": 32,
   "metadata": {},
   "outputs": [],
   "source": [
    "#pip install scikit-posthocs\n"
   ]
  },
  {
   "cell_type": "code",
   "execution_count": 33,
   "metadata": {},
   "outputs": [
    {
     "data": {
      "text/html": [
       "<div>\n",
       "<style scoped>\n",
       "    .dataframe tbody tr th:only-of-type {\n",
       "        vertical-align: middle;\n",
       "    }\n",
       "\n",
       "    .dataframe tbody tr th {\n",
       "        vertical-align: top;\n",
       "    }\n",
       "\n",
       "    .dataframe thead th {\n",
       "        text-align: right;\n",
       "    }\n",
       "</style>\n",
       "<table border=\"1\" class=\"dataframe\">\n",
       "  <thead>\n",
       "    <tr style=\"text-align: right;\">\n",
       "      <th></th>\n",
       "      <th>0</th>\n",
       "      <th>1</th>\n",
       "      <th>2</th>\n",
       "    </tr>\n",
       "  </thead>\n",
       "  <tbody>\n",
       "    <tr>\n",
       "      <th>0</th>\n",
       "      <td>1.000000</td>\n",
       "      <td>0.900000</td>\n",
       "      <td>0.037036</td>\n",
       "    </tr>\n",
       "    <tr>\n",
       "      <th>1</th>\n",
       "      <td>0.900000</td>\n",
       "      <td>1.000000</td>\n",
       "      <td>0.065303</td>\n",
       "    </tr>\n",
       "    <tr>\n",
       "      <th>2</th>\n",
       "      <td>0.037036</td>\n",
       "      <td>0.065303</td>\n",
       "      <td>1.000000</td>\n",
       "    </tr>\n",
       "  </tbody>\n",
       "</table>\n",
       "</div>"
      ],
      "text/plain": [
       "          0         1         2\n",
       "0  1.000000  0.900000  0.037036\n",
       "1  0.900000  1.000000  0.065303\n",
       "2  0.037036  0.065303  1.000000"
      ]
     },
     "execution_count": 33,
     "metadata": {},
     "output_type": "execute_result"
    }
   ],
   "source": [
    "import scikit_posthocs as sp\n",
    "\n",
    "data = np.array([ej5['SVMLinear'], ej5['C50'], ej5['NNET']])\n",
    "sp.posthoc_nemenyi_friedman(data.T)"
   ]
  },
  {
   "cell_type": "markdown",
   "metadata": {},
   "source": [
    "Ejercicio 1: resuelto en el ejemplo 2 \n",
    "\n",
    "Se quiere comprobar si existen diferencias significativas en el comportamiento de dos clasificadores: SVM y una análisis lineal discriminante (LDA). Para tal fin, disponemos de los resultados de la precisión para cada uno de los pliegues para ambos clasificadores (fichero ejercicio1.dat). También se dispone de los objetos generados por la función train() correspondientes a los dos clasificadores (ficheros SVMFit y LDAFit) así como las base de datos sobre la que se ha hecho el experimento (el último atributo es la clase que es un factor, el primero es real y el resto enteros). Realizar las comprobaciones necesarias para llegar a una conclusión."
   ]
  },
  {
   "cell_type": "code",
   "execution_count": 36,
   "metadata": {},
   "outputs": [
    {
     "data": {
      "text/html": [
       "<div>\n",
       "<style scoped>\n",
       "    .dataframe tbody tr th:only-of-type {\n",
       "        vertical-align: middle;\n",
       "    }\n",
       "\n",
       "    .dataframe tbody tr th {\n",
       "        vertical-align: top;\n",
       "    }\n",
       "\n",
       "    .dataframe thead th {\n",
       "        text-align: right;\n",
       "    }\n",
       "</style>\n",
       "<table border=\"1\" class=\"dataframe\">\n",
       "  <thead>\n",
       "    <tr style=\"text-align: right;\">\n",
       "      <th></th>\n",
       "      <th>SVM</th>\n",
       "      <th>LDA</th>\n",
       "    </tr>\n",
       "  </thead>\n",
       "  <tbody>\n",
       "    <tr>\n",
       "      <th>0</th>\n",
       "      <td>0.933333</td>\n",
       "      <td>0.933333</td>\n",
       "    </tr>\n",
       "    <tr>\n",
       "      <th>1</th>\n",
       "      <td>0.875000</td>\n",
       "      <td>0.875000</td>\n",
       "    </tr>\n",
       "    <tr>\n",
       "      <th>2</th>\n",
       "      <td>0.812500</td>\n",
       "      <td>0.875000</td>\n",
       "    </tr>\n",
       "    <tr>\n",
       "      <th>3</th>\n",
       "      <td>0.812500</td>\n",
       "      <td>0.875000</td>\n",
       "    </tr>\n",
       "    <tr>\n",
       "      <th>4</th>\n",
       "      <td>0.933333</td>\n",
       "      <td>0.933333</td>\n",
       "    </tr>\n",
       "    <tr>\n",
       "      <th>5</th>\n",
       "      <td>0.800000</td>\n",
       "      <td>0.800000</td>\n",
       "    </tr>\n",
       "    <tr>\n",
       "      <th>6</th>\n",
       "      <td>0.600000</td>\n",
       "      <td>0.533333</td>\n",
       "    </tr>\n",
       "    <tr>\n",
       "      <th>7</th>\n",
       "      <td>0.937500</td>\n",
       "      <td>0.937500</td>\n",
       "    </tr>\n",
       "    <tr>\n",
       "      <th>8</th>\n",
       "      <td>0.750000</td>\n",
       "      <td>0.937500</td>\n",
       "    </tr>\n",
       "    <tr>\n",
       "      <th>9</th>\n",
       "      <td>0.800000</td>\n",
       "      <td>0.733333</td>\n",
       "    </tr>\n",
       "  </tbody>\n",
       "</table>\n",
       "</div>"
      ],
      "text/plain": [
       "        SVM       LDA\n",
       "0  0.933333  0.933333\n",
       "1  0.875000  0.875000\n",
       "2  0.812500  0.875000\n",
       "3  0.812500  0.875000\n",
       "4  0.933333  0.933333\n",
       "5  0.800000  0.800000\n",
       "6  0.600000  0.533333\n",
       "7  0.937500  0.937500\n",
       "8  0.750000  0.937500\n",
       "9  0.800000  0.733333"
      ]
     },
     "metadata": {},
     "output_type": "display_data"
    }
   ],
   "source": [
    "ejer1 = pd.read_csv('./data/ejercicio1.dat')\n",
    "display(ejer1)"
   ]
  },
  {
   "cell_type": "code",
   "execution_count": 37,
   "metadata": {},
   "outputs": [
    {
     "name": "stdout",
     "output_type": "stream",
     "text": [
      "### Shapiro-Wilk normality test\n",
      "### statistic = 0.8363, p-value = 0.0399\n"
     ]
    }
   ],
   "source": [
    "s, p = shapiro(ejer1['SVM'] - ejer1['LDA'])\n",
    "print('### Shapiro-Wilk normality test')\n",
    "print('### statistic = {:.4f}, p-value = {:.4f}'.format(s, p))"
   ]
  },
  {
   "cell_type": "markdown",
   "metadata": {},
   "source": [
    "Como podemos afirmar que las muestras no proceden de una distribución normal con el 95% de confianza (W= 0.836, p-value= 0.04). Mas formalmente, podemos rechazar la hipótesis nula de que la muestra no proviene de una distribución normal. Por lo tanto, no podemos aplicar el test t de Student para muestras pareadas (o su versión para una muestra). En este caso tenemos que aplicar los test no paramétricos como el test de McNemar o el test de la suma de rangos de Wilcoxon para muestras pareadas."
   ]
  },
  {
   "cell_type": "markdown",
   "metadata": {},
   "source": [
    "Ejercicio 2:\n",
    "\n",
    "Se quiere comprobar si existen diferencias significativas en el comportamiento de cuatro regresores: RegA, RegB, RegC y RegD. Para tal fin, disponemos de los resultados del error cuadrático medio de cada regresor medido sobre nueve conjunto de datos (fichero ejercicio2.dat). Realizar las comprobaciones necesarias para llegar a una conclusión."
   ]
  },
  {
   "cell_type": "code",
   "execution_count": 38,
   "metadata": {},
   "outputs": [
    {
     "data": {
      "text/html": [
       "<div>\n",
       "<style scoped>\n",
       "    .dataframe tbody tr th:only-of-type {\n",
       "        vertical-align: middle;\n",
       "    }\n",
       "\n",
       "    .dataframe tbody tr th {\n",
       "        vertical-align: top;\n",
       "    }\n",
       "\n",
       "    .dataframe thead th {\n",
       "        text-align: right;\n",
       "    }\n",
       "</style>\n",
       "<table border=\"1\" class=\"dataframe\">\n",
       "  <thead>\n",
       "    <tr style=\"text-align: right;\">\n",
       "      <th></th>\n",
       "      <th>RegA</th>\n",
       "      <th>RegB</th>\n",
       "      <th>RegC</th>\n",
       "      <th>RegD</th>\n",
       "    </tr>\n",
       "  </thead>\n",
       "  <tbody>\n",
       "    <tr>\n",
       "      <th>0</th>\n",
       "      <td>5190.18</td>\n",
       "      <td>5048.76</td>\n",
       "      <td>5545.57</td>\n",
       "      <td>5864.49</td>\n",
       "    </tr>\n",
       "    <tr>\n",
       "      <th>1</th>\n",
       "      <td>5361.07</td>\n",
       "      <td>5331.02</td>\n",
       "      <td>5107.87</td>\n",
       "      <td>5420.78</td>\n",
       "    </tr>\n",
       "    <tr>\n",
       "      <th>2</th>\n",
       "      <td>5457.76</td>\n",
       "      <td>4839.14</td>\n",
       "      <td>5142.34</td>\n",
       "      <td>5421.95</td>\n",
       "    </tr>\n",
       "    <tr>\n",
       "      <th>3</th>\n",
       "      <td>5246.77</td>\n",
       "      <td>5107.47</td>\n",
       "      <td>5308.94</td>\n",
       "      <td>4989.79</td>\n",
       "    </tr>\n",
       "    <tr>\n",
       "      <th>4</th>\n",
       "      <td>5182.62</td>\n",
       "      <td>5015.22</td>\n",
       "      <td>5548.14</td>\n",
       "      <td>5229.75</td>\n",
       "    </tr>\n",
       "    <tr>\n",
       "      <th>5</th>\n",
       "      <td>5046.50</td>\n",
       "      <td>5232.16</td>\n",
       "      <td>5151.10</td>\n",
       "      <td>5347.82</td>\n",
       "    </tr>\n",
       "    <tr>\n",
       "      <th>6</th>\n",
       "      <td>5127.59</td>\n",
       "      <td>5104.78</td>\n",
       "      <td>5534.55</td>\n",
       "      <td>5786.63</td>\n",
       "    </tr>\n",
       "    <tr>\n",
       "      <th>7</th>\n",
       "      <td>6873.05</td>\n",
       "      <td>4575.82</td>\n",
       "      <td>6193.76</td>\n",
       "      <td>5993.44</td>\n",
       "    </tr>\n",
       "    <tr>\n",
       "      <th>8</th>\n",
       "      <td>4879.28</td>\n",
       "      <td>4820.10</td>\n",
       "      <td>5344.75</td>\n",
       "      <td>5591.12</td>\n",
       "    </tr>\n",
       "  </tbody>\n",
       "</table>\n",
       "</div>"
      ],
      "text/plain": [
       "      RegA     RegB     RegC     RegD\n",
       "0  5190.18  5048.76  5545.57  5864.49\n",
       "1  5361.07  5331.02  5107.87  5420.78\n",
       "2  5457.76  4839.14  5142.34  5421.95\n",
       "3  5246.77  5107.47  5308.94  4989.79\n",
       "4  5182.62  5015.22  5548.14  5229.75\n",
       "5  5046.50  5232.16  5151.10  5347.82\n",
       "6  5127.59  5104.78  5534.55  5786.63\n",
       "7  6873.05  4575.82  6193.76  5993.44\n",
       "8  4879.28  4820.10  5344.75  5591.12"
      ]
     },
     "metadata": {},
     "output_type": "display_data"
    }
   ],
   "source": [
    "ejer2 = pd.read_csv('./data/ejercicio2.dat')\n",
    "display(ejer2)"
   ]
  },
  {
   "cell_type": "code",
   "execution_count": 48,
   "metadata": {},
   "outputs": [
    {
     "data": {
      "text/html": [
       "<div>\n",
       "<style scoped>\n",
       "    .dataframe tbody tr th:only-of-type {\n",
       "        vertical-align: middle;\n",
       "    }\n",
       "\n",
       "    .dataframe tbody tr th {\n",
       "        vertical-align: top;\n",
       "    }\n",
       "\n",
       "    .dataframe thead th {\n",
       "        text-align: right;\n",
       "    }\n",
       "</style>\n",
       "<table border=\"1\" class=\"dataframe\">\n",
       "  <thead>\n",
       "    <tr style=\"text-align: right;\">\n",
       "      <th></th>\n",
       "      <th>RegA</th>\n",
       "      <th>RegB</th>\n",
       "      <th>RegC</th>\n",
       "      <th>RegD</th>\n",
       "      <th>Dataset</th>\n",
       "    </tr>\n",
       "  </thead>\n",
       "  <tbody>\n",
       "    <tr>\n",
       "      <th>0</th>\n",
       "      <td>5190.18</td>\n",
       "      <td>5048.76</td>\n",
       "      <td>5545.57</td>\n",
       "      <td>5864.49</td>\n",
       "      <td>0</td>\n",
       "    </tr>\n",
       "    <tr>\n",
       "      <th>1</th>\n",
       "      <td>5361.07</td>\n",
       "      <td>5331.02</td>\n",
       "      <td>5107.87</td>\n",
       "      <td>5420.78</td>\n",
       "      <td>1</td>\n",
       "    </tr>\n",
       "    <tr>\n",
       "      <th>2</th>\n",
       "      <td>5457.76</td>\n",
       "      <td>4839.14</td>\n",
       "      <td>5142.34</td>\n",
       "      <td>5421.95</td>\n",
       "      <td>2</td>\n",
       "    </tr>\n",
       "    <tr>\n",
       "      <th>3</th>\n",
       "      <td>5246.77</td>\n",
       "      <td>5107.47</td>\n",
       "      <td>5308.94</td>\n",
       "      <td>4989.79</td>\n",
       "      <td>3</td>\n",
       "    </tr>\n",
       "    <tr>\n",
       "      <th>4</th>\n",
       "      <td>5182.62</td>\n",
       "      <td>5015.22</td>\n",
       "      <td>5548.14</td>\n",
       "      <td>5229.75</td>\n",
       "      <td>4</td>\n",
       "    </tr>\n",
       "    <tr>\n",
       "      <th>5</th>\n",
       "      <td>5046.50</td>\n",
       "      <td>5232.16</td>\n",
       "      <td>5151.10</td>\n",
       "      <td>5347.82</td>\n",
       "      <td>5</td>\n",
       "    </tr>\n",
       "    <tr>\n",
       "      <th>6</th>\n",
       "      <td>5127.59</td>\n",
       "      <td>5104.78</td>\n",
       "      <td>5534.55</td>\n",
       "      <td>5786.63</td>\n",
       "      <td>6</td>\n",
       "    </tr>\n",
       "    <tr>\n",
       "      <th>7</th>\n",
       "      <td>6873.05</td>\n",
       "      <td>4575.82</td>\n",
       "      <td>6193.76</td>\n",
       "      <td>5993.44</td>\n",
       "      <td>7</td>\n",
       "    </tr>\n",
       "    <tr>\n",
       "      <th>8</th>\n",
       "      <td>4879.28</td>\n",
       "      <td>4820.10</td>\n",
       "      <td>5344.75</td>\n",
       "      <td>5591.12</td>\n",
       "      <td>8</td>\n",
       "    </tr>\n",
       "  </tbody>\n",
       "</table>\n",
       "</div>"
      ],
      "text/plain": [
       "      RegA     RegB     RegC     RegD  Dataset\n",
       "0  5190.18  5048.76  5545.57  5864.49        0\n",
       "1  5361.07  5331.02  5107.87  5420.78        1\n",
       "2  5457.76  4839.14  5142.34  5421.95        2\n",
       "3  5246.77  5107.47  5308.94  4989.79        3\n",
       "4  5182.62  5015.22  5548.14  5229.75        4\n",
       "5  5046.50  5232.16  5151.10  5347.82        5\n",
       "6  5127.59  5104.78  5534.55  5786.63        6\n",
       "7  6873.05  4575.82  6193.76  5993.44        7\n",
       "8  4879.28  4820.10  5344.75  5591.12        8"
      ]
     },
     "metadata": {},
     "output_type": "display_data"
    }
   ],
   "source": [
    "ejer2['Dataset']=ejer2.index\n",
    "display(ejer2)"
   ]
  },
  {
   "cell_type": "code",
   "execution_count": 59,
   "metadata": {},
   "outputs": [
    {
     "data": {
      "text/html": [
       "<div>\n",
       "<style scoped>\n",
       "    .dataframe tbody tr th:only-of-type {\n",
       "        vertical-align: middle;\n",
       "    }\n",
       "\n",
       "    .dataframe tbody tr th {\n",
       "        vertical-align: top;\n",
       "    }\n",
       "\n",
       "    .dataframe thead th {\n",
       "        text-align: right;\n",
       "    }\n",
       "</style>\n",
       "<table border=\"1\" class=\"dataframe\">\n",
       "  <thead>\n",
       "    <tr style=\"text-align: right;\">\n",
       "      <th></th>\n",
       "      <th>Accuracy</th>\n",
       "      <th>Method</th>\n",
       "      <th>Dataset</th>\n",
       "    </tr>\n",
       "  </thead>\n",
       "  <tbody>\n",
       "    <tr>\n",
       "      <th>0</th>\n",
       "      <td>5190.18</td>\n",
       "      <td>RegA</td>\n",
       "      <td>0</td>\n",
       "    </tr>\n",
       "    <tr>\n",
       "      <th>1</th>\n",
       "      <td>5361.07</td>\n",
       "      <td>RegA</td>\n",
       "      <td>1</td>\n",
       "    </tr>\n",
       "    <tr>\n",
       "      <th>2</th>\n",
       "      <td>5457.76</td>\n",
       "      <td>RegA</td>\n",
       "      <td>2</td>\n",
       "    </tr>\n",
       "    <tr>\n",
       "      <th>3</th>\n",
       "      <td>5246.77</td>\n",
       "      <td>RegA</td>\n",
       "      <td>3</td>\n",
       "    </tr>\n",
       "    <tr>\n",
       "      <th>4</th>\n",
       "      <td>5182.62</td>\n",
       "      <td>RegA</td>\n",
       "      <td>4</td>\n",
       "    </tr>\n",
       "    <tr>\n",
       "      <th>5</th>\n",
       "      <td>5046.50</td>\n",
       "      <td>RegA</td>\n",
       "      <td>5</td>\n",
       "    </tr>\n",
       "    <tr>\n",
       "      <th>6</th>\n",
       "      <td>5127.59</td>\n",
       "      <td>RegA</td>\n",
       "      <td>6</td>\n",
       "    </tr>\n",
       "    <tr>\n",
       "      <th>7</th>\n",
       "      <td>6873.05</td>\n",
       "      <td>RegA</td>\n",
       "      <td>7</td>\n",
       "    </tr>\n",
       "    <tr>\n",
       "      <th>8</th>\n",
       "      <td>4879.28</td>\n",
       "      <td>RegA</td>\n",
       "      <td>8</td>\n",
       "    </tr>\n",
       "    <tr>\n",
       "      <th>0</th>\n",
       "      <td>5048.76</td>\n",
       "      <td>RegB</td>\n",
       "      <td>0</td>\n",
       "    </tr>\n",
       "    <tr>\n",
       "      <th>1</th>\n",
       "      <td>5331.02</td>\n",
       "      <td>RegB</td>\n",
       "      <td>1</td>\n",
       "    </tr>\n",
       "    <tr>\n",
       "      <th>2</th>\n",
       "      <td>4839.14</td>\n",
       "      <td>RegB</td>\n",
       "      <td>2</td>\n",
       "    </tr>\n",
       "    <tr>\n",
       "      <th>3</th>\n",
       "      <td>5107.47</td>\n",
       "      <td>RegB</td>\n",
       "      <td>3</td>\n",
       "    </tr>\n",
       "    <tr>\n",
       "      <th>4</th>\n",
       "      <td>5015.22</td>\n",
       "      <td>RegB</td>\n",
       "      <td>4</td>\n",
       "    </tr>\n",
       "    <tr>\n",
       "      <th>5</th>\n",
       "      <td>5232.16</td>\n",
       "      <td>RegB</td>\n",
       "      <td>5</td>\n",
       "    </tr>\n",
       "    <tr>\n",
       "      <th>6</th>\n",
       "      <td>5104.78</td>\n",
       "      <td>RegB</td>\n",
       "      <td>6</td>\n",
       "    </tr>\n",
       "    <tr>\n",
       "      <th>7</th>\n",
       "      <td>4575.82</td>\n",
       "      <td>RegB</td>\n",
       "      <td>7</td>\n",
       "    </tr>\n",
       "    <tr>\n",
       "      <th>8</th>\n",
       "      <td>4820.10</td>\n",
       "      <td>RegB</td>\n",
       "      <td>8</td>\n",
       "    </tr>\n",
       "    <tr>\n",
       "      <th>0</th>\n",
       "      <td>5545.57</td>\n",
       "      <td>RegC</td>\n",
       "      <td>0</td>\n",
       "    </tr>\n",
       "    <tr>\n",
       "      <th>1</th>\n",
       "      <td>5107.87</td>\n",
       "      <td>RegC</td>\n",
       "      <td>1</td>\n",
       "    </tr>\n",
       "    <tr>\n",
       "      <th>2</th>\n",
       "      <td>5142.34</td>\n",
       "      <td>RegC</td>\n",
       "      <td>2</td>\n",
       "    </tr>\n",
       "    <tr>\n",
       "      <th>3</th>\n",
       "      <td>5308.94</td>\n",
       "      <td>RegC</td>\n",
       "      <td>3</td>\n",
       "    </tr>\n",
       "    <tr>\n",
       "      <th>4</th>\n",
       "      <td>5548.14</td>\n",
       "      <td>RegC</td>\n",
       "      <td>4</td>\n",
       "    </tr>\n",
       "    <tr>\n",
       "      <th>5</th>\n",
       "      <td>5151.10</td>\n",
       "      <td>RegC</td>\n",
       "      <td>5</td>\n",
       "    </tr>\n",
       "    <tr>\n",
       "      <th>6</th>\n",
       "      <td>5534.55</td>\n",
       "      <td>RegC</td>\n",
       "      <td>6</td>\n",
       "    </tr>\n",
       "    <tr>\n",
       "      <th>7</th>\n",
       "      <td>6193.76</td>\n",
       "      <td>RegC</td>\n",
       "      <td>7</td>\n",
       "    </tr>\n",
       "    <tr>\n",
       "      <th>8</th>\n",
       "      <td>5344.75</td>\n",
       "      <td>RegC</td>\n",
       "      <td>8</td>\n",
       "    </tr>\n",
       "    <tr>\n",
       "      <th>0</th>\n",
       "      <td>5864.49</td>\n",
       "      <td>RegD</td>\n",
       "      <td>0</td>\n",
       "    </tr>\n",
       "    <tr>\n",
       "      <th>1</th>\n",
       "      <td>5420.78</td>\n",
       "      <td>RegD</td>\n",
       "      <td>1</td>\n",
       "    </tr>\n",
       "    <tr>\n",
       "      <th>2</th>\n",
       "      <td>5421.95</td>\n",
       "      <td>RegD</td>\n",
       "      <td>2</td>\n",
       "    </tr>\n",
       "  </tbody>\n",
       "</table>\n",
       "</div>"
      ],
      "text/plain": [
       "   Accuracy Method  Dataset\n",
       "0   5190.18   RegA        0\n",
       "1   5361.07   RegA        1\n",
       "2   5457.76   RegA        2\n",
       "3   5246.77   RegA        3\n",
       "4   5182.62   RegA        4\n",
       "5   5046.50   RegA        5\n",
       "6   5127.59   RegA        6\n",
       "7   6873.05   RegA        7\n",
       "8   4879.28   RegA        8\n",
       "0   5048.76   RegB        0\n",
       "1   5331.02   RegB        1\n",
       "2   4839.14   RegB        2\n",
       "3   5107.47   RegB        3\n",
       "4   5015.22   RegB        4\n",
       "5   5232.16   RegB        5\n",
       "6   5104.78   RegB        6\n",
       "7   4575.82   RegB        7\n",
       "8   4820.10   RegB        8\n",
       "0   5545.57   RegC        0\n",
       "1   5107.87   RegC        1\n",
       "2   5142.34   RegC        2\n",
       "3   5308.94   RegC        3\n",
       "4   5548.14   RegC        4\n",
       "5   5151.10   RegC        5\n",
       "6   5534.55   RegC        6\n",
       "7   6193.76   RegC        7\n",
       "8   5344.75   RegC        8\n",
       "0   5864.49   RegD        0\n",
       "1   5420.78   RegD        1\n",
       "2   5421.95   RegD        2"
      ]
     },
     "execution_count": 59,
     "metadata": {},
     "output_type": "execute_result"
    }
   ],
   "source": [
    "ejer2_t = pd.DataFrame({\n",
    "    'Accuracy': pd.concat([ejer2['RegA'], ejer2['RegB'], ejer2['RegC'],ejer2['RegD']]),\n",
    "    'Method': np.repeat(['RegA', 'RegB', 'RegC','RegD'], 9),\n",
    "    'Dataset': pd.concat([ejer2['Dataset'], ejer2['Dataset'], ejer2['Dataset'],ejer2['Dataset']])\n",
    "})\n",
    "ejer2_t.head(30)"
   ]
  },
  {
   "cell_type": "code",
   "execution_count": 60,
   "metadata": {},
   "outputs": [
    {
     "data": {
      "image/png": "[encoded data removed]",
      "text/plain": [
       "<Figure size 640x480 with 1 Axes>"
      ]
     },
     "metadata": {},
     "output_type": "display_data"
    }
   ],
   "source": [
    "ax = sns.boxplot(x='Method', y='Accuracy', data=ej4_t, color='#99c2a2')\n",
    "ax = sns.swarmplot(x='Method', y='Accuracy', data=ej4_t, color='#7d0013')\n",
    "plt.show()"
   ]
  },
  {
   "cell_type": "code",
   "execution_count": 61,
   "metadata": {},
   "outputs": [
    {
     "name": "stdout",
     "output_type": "stream",
     "text": [
      "### Shapiro-Wilk normality test for classifier A\n",
      "### statistic = 0.6711, p-value = 0.0007\n",
      "### Shapiro-Wilk normality test for classifier B\n",
      "### statistic = 0.9608, p-value = 0.8062\n",
      "### Shapiro-Wilk normality test for classifier C\n",
      "### statistic = 0.8346, p-value = 0.0503\n",
      "### Shapiro-Wilk normality test for classifier D\n",
      "### statistic = 0.9716, p-value = 0.9081\n"
     ]
    }
   ],
   "source": [
    "# Clasificador A\n",
    "s, p = shapiro(ejer2['RegA'])\n",
    "print('### Shapiro-Wilk normality test for classifier A')\n",
    "print('### statistic = {:.4f}, p-value = {:.4f}'.format(s, p))\n",
    "# Clasificador B\n",
    "s, p = shapiro(ejer2['RegB'])\n",
    "print('### Shapiro-Wilk normality test for classifier B')\n",
    "print('### statistic = {:.4f}, p-value = {:.4f}'.format(s, p))\n",
    "# Clasificador C\n",
    "s, p = shapiro(ejer2['RegC'])\n",
    "print('### Shapiro-Wilk normality test for classifier C')\n",
    "print('### statistic = {:.4f}, p-value = {:.4f}'.format(s, p))\n",
    "\n",
    "s, p = shapiro(ejer2['RegD'])\n",
    "print('### Shapiro-Wilk normality test for classifier D')\n",
    "print('### statistic = {:.4f}, p-value = {:.4f}'.format(s, p))\n"
   ]
  },
  {
   "cell_type": "code",
   "execution_count": 62,
   "metadata": {},
   "outputs": [
    {
     "name": "stdout",
     "output_type": "stream",
     "text": [
      "Sphericity: True, statistic: 0.267, chi-square-statistic: 8.880, degrees-of-freedom: 5, p-value: 0.117\n"
     ]
    }
   ],
   "source": [
    "spher, W, chisq, dof, pval = pg.sphericity(\n",
    "    data       = ejer2_t,\n",
    "    dv         = 'Accuracy',\n",
    "    within     = 'Method',\n",
    "    subject    = 'Dataset',\n",
    "    method     = 'mauchly',\n",
    "    alpha      = 0.05\n",
    ")\n",
    "print('Sphericity: {}, statistic: {:.3f}, chi-square-statistic: {:.3f}, degrees-of-freedom: {}, p-value: {:.3f}'.format(\n",
    "    spher, W, chisq, dof, pval\n",
    "))"
   ]
  },
  {
   "cell_type": "markdown",
   "metadata": {},
   "source": [
    "Como se puede deducir de los datos, las precisiones obtenidas por cada clasificador en cada uno de los conjuntos de datos no proceden de una distribución normal con un 95% de confianza (WClassA= 0.6711, p-valueClassA= 0.0007, WClassB= 0.9608, p-valueClassB = 0.8062, WClassC= 0.8346, p-valueClassC=0.0503, WClassD= 0.9716, p-valueClassD=0.9081 ). \n",
    "\n",
    "Como podemos ver la muestra obtenida para el clasificador RegA no cumple la normalidad (WClassA = 0.6711, p-value= 0.0007 < 0.05) ni RegC ( WClassC= 0.8346, p-valueClassC=0.0503 < 0.05)  con lo que debemos proceder a aplicar el test de Friedman. En el caso del test ANOVA de una vía para medidas pareadas se comprueba si las medias entre los diferentes clasificadores son iguales, es decir:\n",
    "\n",
    "$$ H0: \\eta_1 = \\eta_2 = \\dots = \\eta_n $$\n",
    "$$ H1: \\text{las medianas no son iguales} $$\n"
   ]
  },
  {
   "cell_type": "code",
   "execution_count": 51,
   "metadata": {},
   "outputs": [
    {
     "name": "stdout",
     "output_type": "stream",
     "text": [
      "### Friedman rank sum test\n",
      "### statistic = 9.2667, p-value = 0.0259\n"
     ]
    }
   ],
   "source": [
    "s, p = friedmanchisquare(ejer2['RegA'], ejer2['RegB'], ejer2['RegC'],ejer2['RegD'])\n",
    "print('### Friedman rank sum test')\n",
    "print('### statistic = {:.4f}, p-value = {:.4f}'.format(s, p))"
   ]
  },
  {
   "cell_type": "markdown",
   "metadata": {},
   "source": [
    "Como podemos observar, podemos afirmar con una del 95% que existen diferencias significativas en los índices Kappas obtenidos por los tres clasificadores en los conjuntos de datos utilizados (F= 9.2667,, p-value= 0.0259 < 0.05 ). Una vez confirmado la existencia de diferencias entre los clasificadores, tenemos que aplicar el test post hoc de Nemenyi para localizar dónde se encuentran dichas diferencias.\n"
   ]
  },
  {
   "cell_type": "code",
   "execution_count": 52,
   "metadata": {},
   "outputs": [
    {
     "data": {
      "text/html": [
       "<div>\n",
       "<style scoped>\n",
       "    .dataframe tbody tr th:only-of-type {\n",
       "        vertical-align: middle;\n",
       "    }\n",
       "\n",
       "    .dataframe tbody tr th {\n",
       "        vertical-align: top;\n",
       "    }\n",
       "\n",
       "    .dataframe thead th {\n",
       "        text-align: right;\n",
       "    }\n",
       "</style>\n",
       "<table border=\"1\" class=\"dataframe\">\n",
       "  <thead>\n",
       "    <tr style=\"text-align: right;\">\n",
       "      <th></th>\n",
       "      <th>0</th>\n",
       "      <th>1</th>\n",
       "      <th>2</th>\n",
       "      <th>3</th>\n",
       "    </tr>\n",
       "  </thead>\n",
       "  <tbody>\n",
       "    <tr>\n",
       "      <th>0</th>\n",
       "      <td>1.000000</td>\n",
       "      <td>0.261221</td>\n",
       "      <td>0.900000</td>\n",
       "      <td>0.670273</td>\n",
       "    </tr>\n",
       "    <tr>\n",
       "      <th>1</th>\n",
       "      <td>0.261221</td>\n",
       "      <td>1.000000</td>\n",
       "      <td>0.125527</td>\n",
       "      <td>0.018319</td>\n",
       "    </tr>\n",
       "    <tr>\n",
       "      <th>2</th>\n",
       "      <td>0.900000</td>\n",
       "      <td>0.125527</td>\n",
       "      <td>1.000000</td>\n",
       "      <td>0.875232</td>\n",
       "    </tr>\n",
       "    <tr>\n",
       "      <th>3</th>\n",
       "      <td>0.670273</td>\n",
       "      <td>0.018319</td>\n",
       "      <td>0.875232</td>\n",
       "      <td>1.000000</td>\n",
       "    </tr>\n",
       "  </tbody>\n",
       "</table>\n",
       "</div>"
      ],
      "text/plain": [
       "          0         1         2         3\n",
       "0  1.000000  0.261221  0.900000  0.670273\n",
       "1  0.261221  1.000000  0.125527  0.018319\n",
       "2  0.900000  0.125527  1.000000  0.875232\n",
       "3  0.670273  0.018319  0.875232  1.000000"
      ]
     },
     "execution_count": 52,
     "metadata": {},
     "output_type": "execute_result"
    }
   ],
   "source": [
    "data = np.array([ejer2['RegA'], ejer2['RegB'], ejer2['RegC'],ejer2['RegD']])\n",
    "sp.posthoc_nemenyi_friedman(data.T)"
   ]
  },
  {
   "cell_type": "markdown",
   "metadata": {},
   "source": [
    "Como se puede obsercar hay similitud entre RegA , RegC y RegD  pero no con RegB"
   ]
  },
  {
   "cell_type": "code",
   "execution_count": 56,
   "metadata": {},
   "outputs": [
    {
     "name": "stdout",
     "output_type": "stream",
     "text": [
      "### Friedman rank sum test\n",
      "### statistic = 2.0000, p-value = 0.3679\n"
     ]
    }
   ],
   "source": [
    "s, p = friedmanchisquare(ejer2['RegA'], ejer2['RegC'],ejer2['RegD'])\n",
    "print('### Friedman rank sum test')\n",
    "print('### statistic = {:.4f}, p-value = {:.4f}'.format(s, p))"
   ]
  },
  {
   "cell_type": "code",
   "execution_count": null,
   "metadata": {},
   "outputs": [],
   "source": []
  }
 ],
 "metadata": {
  "kernelspec": {
   "display_name": "Python 3 (ipykernel)",
   "language": "python",
   "name": "python3"
  },
  "language_info": {
   "codemirror_mode": {
    "name": "ipython",
    "version": 3
   },
   "file_extension": ".py",
   "mimetype": "text/x-python",
   "name": "python",
   "nbconvert_exporter": "python",
   "pygments_lexer": "ipython3",
   "version": "3.11.5"
  },
  "vscode": {
   "interpreter": {
    "hash": "8f71c68f1925b0c9c00738fd02bee9467d4ee6fc42a683d0d1cd2a9782836069"
   }
  }
 },
 "nbformat": 4,
 "nbformat_minor": 2
}
